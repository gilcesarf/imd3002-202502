{
  "cells": [
    {
      "cell_type": "code",
      "execution_count": 1,
      "metadata": {
        "colab": {
          "base_uri": "https://localhost:8080/",
          "height": 1000
        },
        "id": "o7kQlORl49rs",
        "outputId": "b48d03a2-ca69-4137-d129-2562055637f9"
      },
      "outputs": [
        {
          "ename": "ModuleNotFoundError",
          "evalue": "No module named 'google'",
          "output_type": "error",
          "traceback": [
            "\u001b[31m---------------------------------------------------------------------------\u001b[39m",
            "\u001b[31mModuleNotFoundError\u001b[39m                       Traceback (most recent call last)",
            "\u001b[36mCell\u001b[39m\u001b[36m \u001b[39m\u001b[32mIn[1]\u001b[39m\u001b[32m, line 2\u001b[39m\n\u001b[32m      1\u001b[39m \u001b[38;5;66;03m## Importando as libs necessárias\u001b[39;00m\n\u001b[32m----> \u001b[39m\u001b[32m2\u001b[39m \u001b[38;5;28;01mfrom\u001b[39;00m\u001b[38;5;250m \u001b[39m\u001b[34;01mgoogle\u001b[39;00m\u001b[34;01m.\u001b[39;00m\u001b[34;01mcolab\u001b[39;00m\u001b[38;5;250m \u001b[39m\u001b[38;5;28;01mimport\u001b[39;00m files\n\u001b[32m      3\u001b[39m \u001b[38;5;28;01mimport\u001b[39;00m\u001b[38;5;250m \u001b[39m\u001b[34;01mos\u001b[39;00m,\u001b[38;5;250m \u001b[39m\u001b[34;01mio\u001b[39;00m,\u001b[38;5;250m \u001b[39m\u001b[34;01mtime\u001b[39;00m\n\u001b[32m      5\u001b[39m \u001b[38;5;66;03m# Criando o diretório inicial: /content/\u001b[39;00m\n",
            "\u001b[31mModuleNotFoundError\u001b[39m: No module named 'google'"
          ]
        }
      ],
      "source": [
        "## Importando as libs necessárias\n",
        "from google.colab import files\n",
        "import os, io, time\n",
        "\n",
        "# Criando o diretório inicial: /content/\n",
        "os.chdir('/content/')\n",
        "try:\n",
        "  os.mkdir('Imagens', )\n",
        "except:\n",
        "  print('A pasta já existe.')\n",
        "os.chdir('./Imagens')\n",
        "os.listdir()\n",
        "uploaded_images = files.upload()"
      ]
    },
    {
      "cell_type": "code",
      "execution_count": 5,
      "metadata": {
        "id": "EFkDExTQ5AxT"
      },
      "outputs": [],
      "source": [
        "## Reduzir as imagens\n",
        "from skimage.io import imread, imshow\n",
        "from skimage.transform import resize\n",
        "from skimage.feature import hog\n",
        "\n",
        "hog_features = []\n",
        "for filename in uploaded_images.keys():\n",
        "    image = imread(filename)\n",
        "    image_resized = resize(image, (128, 128))\n",
        "    fd, hog_image = hog(image_resized, orientations=9, pixels_per_cell=(20, 20),\n",
        "                        cells_per_block=(2, 2), visualize=True, channel_axis=-1)\n",
        "    hog_features.append(fd)\n",
        "\n",
        "# Substituindo as raças de cachorros e gatos por 'dog' e 'cat'\n",
        "classe = ['dog' if 'american_bulldog' in file else 'cat' if 'Bengal' in file\n",
        "           else file for file in uploaded_images.keys()]\n",
        "\n",
        "import pandas as pd\n",
        "## Adicionar as colunas com os valores do hog + classe\n",
        "data = {\"hog_features\": hog_features, \"classe\": classe}\n",
        "df = pd.DataFrame(data)\n",
        "\n",
        "# Transformando cada valor do hog_feature em um atributo (coluna)\n",
        "df2 = pd.DataFrame(df['hog_features'].tolist())\n",
        "df2.columns = df2.columns.map(lambda x: f'hog_feature_{x+1}')\n",
        "df = pd.concat([df.drop('hog_features', axis=1), df2], axis=1)\n",
        "\n",
        "# Mover a coluna 'classe' para o final\n",
        "df['classe'] = df.pop('classe')\n",
        "\n",
        "# Salvando csv resultante\n",
        "df.to_csv('HOG_128_20x20.csv', sep=',', index=False)"
      ]
    }
  ],
  "metadata": {
    "colab": {
      "provenance": []
    },
    "kernelspec": {
      "display_name": ".venv",
      "language": "python",
      "name": "python3"
    },
    "language_info": {
      "codemirror_mode": {
        "name": "ipython",
        "version": 3
      },
      "file_extension": ".py",
      "mimetype": "text/x-python",
      "name": "python",
      "nbconvert_exporter": "python",
      "pygments_lexer": "ipython3",
      "version": "3.13.7"
    }
  },
  "nbformat": 4,
  "nbformat_minor": 0
}
