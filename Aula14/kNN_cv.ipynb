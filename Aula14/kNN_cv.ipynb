{
  "nbformat": 4,
  "nbformat_minor": 0,
  "metadata": {
    "colab": {
      "provenance": []
    },
    "kernelspec": {
      "name": "python3",
      "display_name": "Python 3"
    },
    "language_info": {
      "name": "python"
    }
  },
  "cells": [
    {
      "cell_type": "code",
      "execution_count": 1,
      "metadata": {
        "colab": {
          "base_uri": "https://localhost:8080/"
        },
        "id": "rgMDtb6bf4t7",
        "outputId": "2972485c-5f12-4810-bd8a-f2ecb7129a93"
      },
      "outputs": [
        {
          "output_type": "stream",
          "name": "stdout",
          "text": [
            "<class 'pandas.core.frame.DataFrame'>\n",
            "RangeIndex: 768 entries, 0 to 767\n",
            "Data columns (total 9 columns):\n",
            " #   Column  Non-Null Count  Dtype  \n",
            "---  ------  --------------  -----  \n",
            " 0   preg    768 non-null    int64  \n",
            " 1   plas    768 non-null    int64  \n",
            " 2   pres    768 non-null    int64  \n",
            " 3   skin    768 non-null    int64  \n",
            " 4   insu    768 non-null    int64  \n",
            " 5   mass    768 non-null    float64\n",
            " 6   pedi    768 non-null    float64\n",
            " 7   age     768 non-null    int64  \n",
            " 8   classe  768 non-null    object \n",
            "dtypes: float64(2), int64(6), object(1)\n",
            "memory usage: 54.1+ KB\n"
          ]
        }
      ],
      "source": [
        "### Carregar as Libraries\n",
        "import pandas as pd\n",
        "from numpy import mean\n",
        "from numpy import std\n",
        "\n",
        "### Importing Dataset\n",
        "dataset = pd.read_csv('Diabetes.csv',encoding='utf-8')\n",
        "\n",
        "# Visualização dos atributos\n",
        "dataset.info()"
      ]
    },
    {
      "cell_type": "code",
      "source": [
        "## Selecionando todos os atributos com exceção da classe\n",
        "dataset_part01 = dataset.iloc[:, :-1]\n",
        "\n",
        "X = dataset_part01      # Features\n",
        "y = dataset.classe      # Target variable (classe)"
      ],
      "metadata": {
        "id": "zxE31I1rgJnh"
      },
      "execution_count": 2,
      "outputs": []
    },
    {
      "cell_type": "code",
      "source": [
        "## Carregando o algoritmo / método / técnica k-NN\n",
        "from sklearn.neighbors import KNeighborsClassifier\n",
        "from sklearn.metrics import confusion_matrix\n",
        "from sklearn import metrics\n",
        "\n",
        "## Implementando k-fold CV\n",
        "from sklearn.model_selection import cross_val_score\n",
        "from sklearn.model_selection import cross_val_predict\n",
        "from sklearn.model_selection import KFold"
      ],
      "metadata": {
        "id": "lqQN0DCugUuN"
      },
      "execution_count": 3,
      "outputs": []
    },
    {
      "cell_type": "code",
      "source": [
        "# 10-fold CV\n",
        "kf = KFold(n_splits=10, random_state=1, shuffle=True)\n",
        "\n",
        "# Instanciando um objeto KNeighborsClassifier\n",
        "knn = KNeighborsClassifier(n_neighbors=1, metric='euclidean')\n",
        "\n",
        "# Model Accuracy\n",
        "scores = cross_val_score(knn, X, y, scoring='accuracy', cv=kf)\n",
        "print('Accuracy: %.3f (%.3f)' % (mean(scores), std(scores)))\n",
        "\n",
        "# Matriz de confusão p/ kf\n",
        "y_pred = cross_val_predict(knn, X, y, cv=kf)\n",
        "confusion_matrix(y, y_pred)"
      ],
      "metadata": {
        "colab": {
          "base_uri": "https://localhost:8080/"
        },
        "id": "zep5OVyGgXQD",
        "outputId": "8198d976-b349-4d96-f449-88046db11896"
      },
      "execution_count": 4,
      "outputs": [
        {
          "output_type": "stream",
          "name": "stdout",
          "text": [
            "Accuracy: 0.691 (0.055)\n"
          ]
        },
        {
          "output_type": "execute_result",
          "data": {
            "text/plain": [
              "array([[385, 115],\n",
              "       [122, 146]])"
            ]
          },
          "metadata": {},
          "execution_count": 4
        }
      ]
    },
    {
      "cell_type": "code",
      "source": [
        "### Utilizando outras métricas\n",
        "from sklearn.metrics import classification_report\n",
        "print(classification_report(y, y_pred))"
      ],
      "metadata": {
        "colab": {
          "base_uri": "https://localhost:8080/"
        },
        "id": "jGisUptb1IZV",
        "outputId": "aff19c8f-85e4-4239-863e-2cac0d9dbf28"
      },
      "execution_count": 5,
      "outputs": [
        {
          "output_type": "stream",
          "name": "stdout",
          "text": [
            "                 precision    recall  f1-score   support\n",
            "\n",
            "tested_negative       0.76      0.77      0.76       500\n",
            "tested_positive       0.56      0.54      0.55       268\n",
            "\n",
            "       accuracy                           0.69       768\n",
            "      macro avg       0.66      0.66      0.66       768\n",
            "   weighted avg       0.69      0.69      0.69       768\n",
            "\n"
          ]
        }
      ]
    },
    {
      "cell_type": "code",
      "source": [
        "### Diferentes tipos de F1-score\n",
        "from sklearn.metrics import f1_score\n",
        "\n",
        "### F1-score geral equilibrado entre classes (média)\n",
        "print(\"F1-score (macro):\", f1_score(y, y_pred, average=\"macro\"))\n",
        "\n",
        "### F1-score que mostra a distribuição real do dataset\n",
        "print(\"F1-score (weighted):\", f1_score(y, y_pred, average=\"weighted\"))\n",
        "\n",
        "### Calcula soma total de TP, FP e FN antes do F1-score\n",
        "### Todas as instâncias têm mesmo peso, classes maiores influenciam mais\n",
        "print(\"F1-score (micro):\", f1_score(y, y_pred, average=\"micro\"))"
      ],
      "metadata": {
        "colab": {
          "base_uri": "https://localhost:8080/"
        },
        "id": "KS07rK3o1fHb",
        "outputId": "c9d86de6-9b71-46fa-8ea9-6fc492a8145a"
      },
      "execution_count": 6,
      "outputs": [
        {
          "output_type": "stream",
          "name": "stdout",
          "text": [
            "F1-score (macro): 0.6583161724262863\n",
            "F1-score (weighted): 0.6904370845480502\n",
            "F1-score (micro): 0.69140625\n"
          ]
        }
      ]
    }
  ]
}