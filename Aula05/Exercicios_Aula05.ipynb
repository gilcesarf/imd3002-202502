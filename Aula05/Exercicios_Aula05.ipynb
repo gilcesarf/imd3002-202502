{
  "nbformat": 4,
  "nbformat_minor": 0,
  "metadata": {
    "colab": {
      "provenance": [],
      "toc_visible": true,
      "authorship_tag": "ABX9TyMS8vQuHJKVUnkxkZ719B5I",
      "include_colab_link": true
    },
    "kernelspec": {
      "name": "python3",
      "display_name": "Python 3"
    },
    "language_info": {
      "name": "python"
    }
  },
  "cells": [
    {
      "cell_type": "markdown",
      "metadata": {
        "id": "view-in-github",
        "colab_type": "text"
      },
      "source": [
        "<a href=\"https://colab.research.google.com/github/gilcesarf/imd3002-202502/blob/main/Aula05/Exercicios_Aula05.ipynb\" target=\"_parent\"><img src=\"https://colab.research.google.com/assets/colab-badge.svg\" alt=\"Open In Colab\"/></a>"
      ]
    },
    {
      "cell_type": "markdown",
      "source": [
        "# Setup inicial"
      ],
      "metadata": {
        "id": "iqgyaNiR-ckv"
      }
    },
    {
      "cell_type": "code",
      "execution_count": 20,
      "metadata": {
        "id": "tuhHaBhe8ETP",
        "colab": {
          "base_uri": "https://localhost:8080/"
        },
        "outputId": "9daf129c-2ead-4bfb-b42b-461adce9eac0"
      },
      "outputs": [
        {
          "name": "stdout",
          "output_type": "stream",
          "text": [
            "Arquivos disponíveis:\n",
            "1. Abalone.csv\n",
            "2. Adult.csv\n",
            "3. Arrhythmia.csv\n",
            "4. Breast_cancer.csv\n",
            "5. Car.csv\n",
            "6. Credit.csv\n",
            "7. Dermatology.csv\n",
            "8. Diabetes.csv\n",
            "9. Ecoli.csv\n",
            "10. Glass.csv\n",
            "11. Image.csv\n",
            "12. Iris.csv\n",
            "13. Madelon.csv\n",
            "14. Movie_Dataset.csv\n",
            "15. Nursery.csv\n",
            "16. Semeion.csv\n",
            "17. SolarFlare.csv\n",
            "18. Waveform.csv\n",
            "19. Wine.csv\n",
            "20. Yeast.csv\n",
            "Digite o número do arquivo que deseja carregar: 14\n"
          ]
        }
      ],
      "source": [
        "import numpy as np\n",
        "import pandas as pd\n",
        "\n",
        "# Download the raw CSV data directly from GitHub\n",
        "\n",
        "base_url = \"https://raw.githubusercontent.com/gilcesarf/imd3002-202502/main/Aula05/data/\"\n",
        "\n",
        "arquivos = [\n",
        "    \"Abalone.csv\",\n",
        "    \"Adult.csv\",\n",
        "    \"Arrhythmia.csv\",\n",
        "    \"Breast_cancer.csv\",\n",
        "    \"Car.csv\",\n",
        "    \"Credit.csv\",\n",
        "    \"Dermatology.csv\",\n",
        "    \"Diabetes.csv\",\n",
        "    \"Ecoli.csv\",\n",
        "    \"Glass.csv\",\n",
        "    \"Image.csv\",\n",
        "    \"Iris.csv\",\n",
        "    \"Madelon.csv\",\n",
        "    \"Movie_Dataset.csv\",\n",
        "    \"Nursery.csv\",\n",
        "    \"Semeion.csv\",\n",
        "    \"SolarFlare.csv\",\n",
        "    \"Waveform.csv\",\n",
        "    \"Wine.csv\",\n",
        "    \"Yeast.csv\"\n",
        "]\n",
        "\n",
        "print(\"Arquivos disponíveis:\")\n",
        "for i, nome in enumerate(arquivos, start=1):\n",
        "    print(f\"{i}. {nome}\")\n",
        "\n",
        "escolha = int(input(\"Digite o número do arquivo que deseja carregar: \")) - 1\n",
        "url = base_url + arquivos[escolha]\n",
        "\n",
        "dataset = pd.read_csv(url, encoding='utf-8')"
      ]
    },
    {
      "cell_type": "markdown",
      "source": [
        "# Características da Base de Dados\n"
      ],
      "metadata": {
        "id": "cMyo2t7w98wx"
      }
    },
    {
      "cell_type": "code",
      "source": [
        "# caracteristicas da base de dados\n",
        "print( \"Arquivo em processamento: \", arquivos[escolha])\n",
        "print( \"Caracteristicas da Base de Dados:\" )\n",
        "\n",
        "dataset.info()"
      ],
      "metadata": {
        "colab": {
          "base_uri": "https://localhost:8080/"
        },
        "id": "yFVHSqDl-wqv",
        "outputId": "0ba566e3-a184-4831-8cf1-840e3349b146"
      },
      "execution_count": 21,
      "outputs": [
        {
          "output_type": "stream",
          "name": "stdout",
          "text": [
            "Arquivo em processamento:  Movie_Dataset.csv\n",
            "Caracteristicas da Base de Dados:\n",
            "<class 'pandas.core.frame.DataFrame'>\n",
            "RangeIndex: 1503 entries, 0 to 1502\n",
            "Data columns (total 15 columns):\n",
            " #   Column               Non-Null Count  Dtype  \n",
            "---  ------               --------------  -----  \n",
            " 0   country_release      1503 non-null   object \n",
            " 1   language             1503 non-null   object \n",
            " 2   filming_location     1503 non-null   object \n",
            " 3   year_release         1503 non-null   float64\n",
            " 4   director_gender      1503 non-null   object \n",
            " 5   director_country     1503 non-null   object \n",
            " 6   director_year_birth  1503 non-null   float64\n",
            " 7   company_city         1503 non-null   object \n",
            " 8   founded              1503 non-null   float64\n",
            " 9   company_type         1503 non-null   object \n",
            " 10  actor_education      1503 non-null   object \n",
            " 11  actor_gender         1503 non-null   object \n",
            " 12  actor_nationality    1503 non-null   object \n",
            " 13  roletype             1503 non-null   object \n",
            " 14  actor_year_birth     1503 non-null   float64\n",
            "dtypes: float64(4), object(11)\n",
            "memory usage: 176.3+ KB\n"
          ]
        }
      ]
    },
    {
      "cell_type": "markdown",
      "source": [
        "# Verificação de Missing Values\n"
      ],
      "metadata": {
        "id": "ocMVA1xx-r4W"
      }
    },
    {
      "cell_type": "code",
      "source": [
        "# verificacao de missing values"
      ],
      "metadata": {
        "id": "RlGXjQRT_L2i"
      },
      "execution_count": 22,
      "outputs": []
    },
    {
      "cell_type": "markdown",
      "source": [
        "# Transformação de Atributos Numéricos"
      ],
      "metadata": {
        "id": "X8BRJniK-4KC"
      }
    },
    {
      "cell_type": "code",
      "source": [
        "# transformacao de atributos numericos"
      ],
      "metadata": {
        "id": "tgg9iF2W_Usw"
      },
      "execution_count": 23,
      "outputs": []
    },
    {
      "cell_type": "markdown",
      "source": [
        "# Transformação de Atributos Discretos"
      ],
      "metadata": {
        "id": "ea-IrBWl-9D7"
      }
    },
    {
      "cell_type": "code",
      "source": [
        "# transformação de atributos discretos"
      ],
      "metadata": {
        "id": "qZitfeK6_dnD"
      },
      "execution_count": 24,
      "outputs": []
    }
  ]
}