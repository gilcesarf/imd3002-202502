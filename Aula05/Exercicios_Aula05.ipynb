{
  "nbformat": 4,
  "nbformat_minor": 0,
  "metadata": {
    "colab": {
      "provenance": [],
      "toc_visible": true,
      "authorship_tag": "ABX9TyNW1jxlNymFdzs9h9OWqwu8",
      "include_colab_link": true
    },
    "kernelspec": {
      "name": "python3",
      "display_name": "Python 3"
    },
    "language_info": {
      "name": "python"
    }
  },
  "cells": [
    {
      "cell_type": "markdown",
      "metadata": {
        "id": "view-in-github",
        "colab_type": "text"
      },
      "source": [
        "<a href=\"https://colab.research.google.com/github/gilcesarf/imd3002-202502/blob/main/Aula05/Exercicios_Aula05.ipynb\" target=\"_parent\"><img src=\"https://colab.research.google.com/assets/colab-badge.svg\" alt=\"Open In Colab\"/></a>"
      ]
    },
    {
      "cell_type": "markdown",
      "source": [
        "# Setup inicial"
      ],
      "metadata": {
        "id": "iqgyaNiR-ckv"
      }
    },
    {
      "cell_type": "code",
      "execution_count": 15,
      "metadata": {
        "id": "tuhHaBhe8ETP"
      },
      "outputs": [],
      "source": [
        "import numpy as np\n",
        "import pandas as pd\n",
        "\n",
        "# Download the raw CSV data directly from GitHub\n",
        "\n",
        "url = \"https://raw.githubusercontent.com/gilcesarf/imd3002-202502/refs/heads/main/Aula05/data/Adult.csv\"\n",
        "\n",
        "dataset = pd.read_csv(url, encoding='utf-8')"
      ]
    },
    {
      "cell_type": "markdown",
      "source": [
        "# Características da Base de Dados\n"
      ],
      "metadata": {
        "id": "cMyo2t7w98wx"
      }
    },
    {
      "cell_type": "code",
      "source": [
        "# caracteristicas da base de dados\n",
        "\n",
        "dataset.info()"
      ],
      "metadata": {
        "colab": {
          "base_uri": "https://localhost:8080/"
        },
        "id": "yFVHSqDl-wqv",
        "outputId": "fc02ce03-12ac-4913-a2a2-a02939096060"
      },
      "execution_count": 16,
      "outputs": [
        {
          "output_type": "stream",
          "name": "stdout",
          "text": [
            "<class 'pandas.core.frame.DataFrame'>\n",
            "RangeIndex: 16281 entries, 0 to 16280\n",
            "Data columns (total 15 columns):\n",
            " #   Column          Non-Null Count  Dtype \n",
            "---  ------          --------------  ----- \n",
            " 0   age             16281 non-null  int64 \n",
            " 1   workclass       15318 non-null  object\n",
            " 2   fnlwgt          16281 non-null  int64 \n",
            " 3   education       16280 non-null  object\n",
            " 4   education-num   16281 non-null  int64 \n",
            " 5   marital-status  16281 non-null  object\n",
            " 6   occupation      15315 non-null  object\n",
            " 7   relationship    16281 non-null  object\n",
            " 8   race            16281 non-null  object\n",
            " 9   sex             16281 non-null  object\n",
            " 10  capital-gain    16281 non-null  int64 \n",
            " 11  capital-loss    16281 non-null  int64 \n",
            " 12  hours-per-week  16281 non-null  int64 \n",
            " 13  native-country  16007 non-null  object\n",
            " 14  class           16281 non-null  object\n",
            "dtypes: int64(6), object(9)\n",
            "memory usage: 1.9+ MB\n"
          ]
        }
      ]
    },
    {
      "cell_type": "markdown",
      "source": [
        "# Verificação de Missing Values\n"
      ],
      "metadata": {
        "id": "ocMVA1xx-r4W"
      }
    },
    {
      "cell_type": "code",
      "source": [
        "# verificacao de missing values"
      ],
      "metadata": {
        "id": "RlGXjQRT_L2i"
      },
      "execution_count": 17,
      "outputs": []
    },
    {
      "cell_type": "markdown",
      "source": [
        "# Transformação de Atributos Numéricos"
      ],
      "metadata": {
        "id": "X8BRJniK-4KC"
      }
    },
    {
      "cell_type": "code",
      "source": [
        "# transformacao de atributos numericos"
      ],
      "metadata": {
        "id": "tgg9iF2W_Usw"
      },
      "execution_count": 18,
      "outputs": []
    },
    {
      "cell_type": "markdown",
      "source": [
        "# Transformação de Atributos Discretos"
      ],
      "metadata": {
        "id": "ea-IrBWl-9D7"
      }
    },
    {
      "cell_type": "code",
      "source": [
        "# transformação de atributos discretos"
      ],
      "metadata": {
        "id": "qZitfeK6_dnD"
      },
      "execution_count": 19,
      "outputs": []
    }
  ]
}