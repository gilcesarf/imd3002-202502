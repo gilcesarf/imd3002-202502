{
  "nbformat": 4,
  "nbformat_minor": 0,
  "metadata": {
    "colab": {
      "provenance": [],
      "toc_visible": true,
      "authorship_tag": "ABX9TyMS1VxYCFyyO2OcignamsJm",
      "include_colab_link": true
    },
    "kernelspec": {
      "name": "python3",
      "display_name": "Python 3"
    },
    "language_info": {
      "name": "python"
    }
  },
  "cells": [
    {
      "cell_type": "markdown",
      "metadata": {
        "id": "view-in-github",
        "colab_type": "text"
      },
      "source": [
        "<a href=\"https://colab.research.google.com/github/gilcesarf/imd3002-202502/blob/main/Aula05/Exercicios_Aula05.ipynb\" target=\"_parent\"><img src=\"https://colab.research.google.com/assets/colab-badge.svg\" alt=\"Open In Colab\"/></a>"
      ]
    },
    {
      "cell_type": "markdown",
      "source": [
        "# Setup inicial"
      ],
      "metadata": {
        "id": "iqgyaNiR-ckv"
      }
    },
    {
      "cell_type": "code",
      "execution_count": 1,
      "metadata": {
        "id": "tuhHaBhe8ETP"
      },
      "outputs": [],
      "source": [
        "import numpy as np\n",
        "import pandas as pd\n",
        "import matplotlib.pyplot as plt\n",
        "from sklearn.preprocessing import minmax_scale\n",
        "\n",
        "# Download the raw CSV data directly from GitHub\n",
        "\n",
        "url = \"https://raw.githubusercontent.com/gilcesarf/imd3002-202502/main/Aula05/data/Adult.csv\"\n",
        "\n",
        "dataset = pd.read_csv(url, encoding='utf-8')"
      ]
    },
    {
      "cell_type": "markdown",
      "source": [
        "# Características da Base de Dados\n"
      ],
      "metadata": {
        "id": "cMyo2t7w98wx"
      }
    },
    {
      "cell_type": "code",
      "source": [
        "# caracteristicas da base de dados\n",
        "print( \"Arquivo em processamento: Adult.csv\")\n",
        "print( \"Caracteristicas da Base de Dados:\" )\n",
        "\n",
        "dataset.info()"
      ],
      "metadata": {
        "colab": {
          "base_uri": "https://localhost:8080/"
        },
        "id": "yFVHSqDl-wqv",
        "outputId": "99b87fca-1662-4b07-d21e-d88dc82f3cf4"
      },
      "execution_count": 2,
      "outputs": [
        {
          "output_type": "stream",
          "name": "stdout",
          "text": [
            "Arquivo em processamento: Adult.csv\n",
            "Caracteristicas da Base de Dados:\n",
            "<class 'pandas.core.frame.DataFrame'>\n",
            "RangeIndex: 16281 entries, 0 to 16280\n",
            "Data columns (total 15 columns):\n",
            " #   Column          Non-Null Count  Dtype \n",
            "---  ------          --------------  ----- \n",
            " 0   age             16281 non-null  int64 \n",
            " 1   workclass       15318 non-null  object\n",
            " 2   fnlwgt          16281 non-null  int64 \n",
            " 3   education       16280 non-null  object\n",
            " 4   education-num   16281 non-null  int64 \n",
            " 5   marital-status  16281 non-null  object\n",
            " 6   occupation      15315 non-null  object\n",
            " 7   relationship    16281 non-null  object\n",
            " 8   race            16281 non-null  object\n",
            " 9   sex             16281 non-null  object\n",
            " 10  capital-gain    16281 non-null  int64 \n",
            " 11  capital-loss    16281 non-null  int64 \n",
            " 12  hours-per-week  16281 non-null  int64 \n",
            " 13  native-country  16007 non-null  object\n",
            " 14  class           16281 non-null  object\n",
            "dtypes: int64(6), object(9)\n",
            "memory usage: 1.9+ MB\n"
          ]
        }
      ]
    },
    {
      "cell_type": "markdown",
      "source": [
        "# Verificação de Missing Values\n"
      ],
      "metadata": {
        "id": "ocMVA1xx-r4W"
      }
    },
    {
      "cell_type": "code",
      "source": [
        "# verificacao de missing values\n",
        "missing = dataset.isnull().sum()\n",
        "print( \"Missing Values:\" )\n",
        "print( missing )\n"
      ],
      "metadata": {
        "colab": {
          "base_uri": "https://localhost:8080/"
        },
        "id": "RlGXjQRT_L2i",
        "outputId": "91976eed-6087-40d6-a556-8998d2e8756e"
      },
      "execution_count": 3,
      "outputs": [
        {
          "output_type": "stream",
          "name": "stdout",
          "text": [
            "Missing Values:\n",
            "age                 0\n",
            "workclass         963\n",
            "fnlwgt              0\n",
            "education           1\n",
            "education-num       0\n",
            "marital-status      0\n",
            "occupation        966\n",
            "relationship        0\n",
            "race                0\n",
            "sex                 0\n",
            "capital-gain        0\n",
            "capital-loss        0\n",
            "hours-per-week      0\n",
            "native-country    274\n",
            "class               0\n",
            "dtype: int64\n"
          ]
        }
      ]
    },
    {
      "cell_type": "markdown",
      "source": [
        "# Modas e Valores unicos"
      ],
      "metadata": {
        "id": "_AOrk9vKOH1p"
      }
    },
    {
      "cell_type": "code",
      "source": [
        "modas = dataset.mode()\n",
        "print(\"modas\")\n",
        "print(modas)\n",
        "\n",
        "print(\"\\ndataset['workclass'].unique()=\", dataset['workclass'].unique())\n",
        "\n",
        "print(\"\\ndataset['native-country'].unique()=\", dataset['native-country'].unique())\n",
        "\n",
        "print(\"\\ndataset['occupation'].unique()=\", dataset['occupation'].unique())\n",
        "\n",
        "print(\"\\ndataset['education'].unique()=\", dataset['education'].unique())"
      ],
      "metadata": {
        "colab": {
          "base_uri": "https://localhost:8080/"
        },
        "id": "4W9FcFwBOQZ3",
        "outputId": "9c300655-e256-45ad-a415-05f0c9147bd9"
      },
      "execution_count": 4,
      "outputs": [
        {
          "output_type": "stream",
          "name": "stdout",
          "text": [
            "modas\n",
            "   age workclass  fnlwgt education  education-num      marital-status  \\\n",
            "0   35   Private  136986   HS-grad              9  Married-civ-spouse   \n",
            "\n",
            "       occupation relationship   race   sex  capital-gain  capital-loss  \\\n",
            "0  Prof-specialty      Husband  White  Male             0             0   \n",
            "\n",
            "   hours-per-week native-country  class  \n",
            "0              40  United-States  <=50K  \n",
            "\n",
            "dataset['workclass'].unique()= ['Private' 'Local-gov' nan 'Self-emp-not-inc' 'Federal-gov' 'State-gov'\n",
            " 'Self-emp-inc' 'Without-pay' 'Never-worked']\n",
            "\n",
            "dataset['native-country'].unique()= ['United-States' nan 'Peru' 'Guatemala' 'Mexico' 'Dominican-Republic'\n",
            " 'Ireland' 'Germany' 'Philippines' 'Thailand' 'Haiti' 'El-Salvador'\n",
            " 'Puerto-Rico' 'Vietnam' 'South' 'Columbia' 'Japan' 'India' 'Cambodia'\n",
            " 'Poland' 'Laos' 'England' 'Cuba' 'Taiwan' 'Italy' 'Canada' 'Portugal'\n",
            " 'China' 'Nicaragua' 'Honduras' 'Iran' 'Scotland' 'Jamaica' 'Ecuador'\n",
            " 'Yugoslavia' 'Hungary' 'Hong' 'Greece' 'Trinadad&Tobago'\n",
            " 'Outlying-US(Guam-USVI-etc)' 'France']\n",
            "\n",
            "dataset['occupation'].unique()= ['Machine-op-inspct' 'Farming-fishing' 'Protective-serv' nan\n",
            " 'Other-service' 'Prof-specialty' 'Craft-repair' 'Adm-clerical'\n",
            " 'Exec-managerial' 'Tech-support' 'Sales' 'Priv-house-serv'\n",
            " 'Transport-moving' 'Handlers-cleaners' 'Armed-Forces']\n",
            "\n",
            "dataset['education'].unique()= ['11th' 'HS-grad' 'Assoc-acdm' nan 'Some-college' '10th' 'Prof-school'\n",
            " '7th-8th' 'Bachelors' 'Masters' 'Doctorate' '5th-6th' 'Assoc-voc' '9th'\n",
            " '12th' '1st-4th' 'Preschool']\n"
          ]
        }
      ]
    },
    {
      "cell_type": "markdown",
      "source": [
        "# Limpeza de Missing Values para 'workclass', 'occupation' e 'native-country'\n",
        "#### utilização de substituição pela moda"
      ],
      "metadata": {
        "id": "ZekIgbVeTcGj"
      }
    },
    {
      "cell_type": "code",
      "source": [
        "atributos = ['workclass', 'occupation', 'native-country']\n",
        "dataset[atributos] = dataset[atributos].fillna(modas.loc[0, atributos])\n",
        "\n",
        "dados = dataset[atributos].value_counts(dropna=False)\n",
        "\n",
        "print(\"dataset.isnull().sum()=\\n\")\n",
        "print(dataset.isnull().sum())"
      ],
      "metadata": {
        "colab": {
          "base_uri": "https://localhost:8080/"
        },
        "id": "MTPDVCnRT3FX",
        "outputId": "26d0c8ba-2581-4759-9ad2-ac74bf9523f7"
      },
      "execution_count": 5,
      "outputs": [
        {
          "output_type": "stream",
          "name": "stdout",
          "text": [
            "dataset.isnull().sum()=\n",
            "\n",
            "age               0\n",
            "workclass         0\n",
            "fnlwgt            0\n",
            "education         1\n",
            "education-num     0\n",
            "marital-status    0\n",
            "occupation        0\n",
            "relationship      0\n",
            "race              0\n",
            "sex               0\n",
            "capital-gain      0\n",
            "capital-loss      0\n",
            "hours-per-week    0\n",
            "native-country    0\n",
            "class             0\n",
            "dtype: int64\n"
          ]
        }
      ]
    },
    {
      "cell_type": "markdown",
      "source": [
        "# Limpeza de Missing Values para 'education'\n",
        "#### utilização de descarte"
      ],
      "metadata": {
        "id": "sXz--QdKLdV6"
      }
    },
    {
      "cell_type": "code",
      "source": [
        "\n",
        "dataset.dropna(subset=['education'], inplace=True)\n",
        "\n",
        "print(\"dataset.isnull().sum()=\\n\")\n",
        "print(dataset.isnull().sum())"
      ],
      "metadata": {
        "colab": {
          "base_uri": "https://localhost:8080/"
        },
        "id": "poSISvyGLkeh",
        "outputId": "f5f411bd-a03b-4fee-d98e-afd1d4d59e49"
      },
      "execution_count": 6,
      "outputs": [
        {
          "output_type": "stream",
          "name": "stdout",
          "text": [
            "dataset.isnull().sum()=\n",
            "\n",
            "age               0\n",
            "workclass         0\n",
            "fnlwgt            0\n",
            "education         0\n",
            "education-num     0\n",
            "marital-status    0\n",
            "occupation        0\n",
            "relationship      0\n",
            "race              0\n",
            "sex               0\n",
            "capital-gain      0\n",
            "capital-loss      0\n",
            "hours-per-week    0\n",
            "native-country    0\n",
            "class             0\n",
            "dtype: int64\n"
          ]
        }
      ]
    },
    {
      "cell_type": "markdown",
      "source": [
        "# Transformação de Atributos Numéricos"
      ],
      "metadata": {
        "id": "X8BRJniK-4KC"
      }
    },
    {
      "cell_type": "markdown",
      "source": [
        "## Eliminando coluna fnlwgt\n",
        "\n",
        "Se elimina a coluna pois ela representa o peso da amostragem na população total (segundo o Census) e pode introduzir ruído nas análises de ML"
      ],
      "metadata": {
        "id": "Sz06raQs6NMh"
      }
    },
    {
      "cell_type": "code",
      "source": [
        "dataset = dataset.drop(columns=['fnlwgt'])"
      ],
      "metadata": {
        "id": "mdmMhJKI63xT"
      },
      "execution_count": 7,
      "outputs": []
    },
    {
      "cell_type": "markdown",
      "source": [
        "## Analisando Outliers\n",
        "\n"
      ],
      "metadata": {
        "id": "UVcExe6x1Xto"
      }
    },
    {
      "cell_type": "code",
      "source": [
        "dataset_outliers = dataset.copy()\n",
        "\n",
        "atributos = ['age', 'capital-gain', 'capital-loss', 'hours-per-week']\n",
        "\n",
        "parametros_boxplot = {}\n",
        "outliers_substituidos = {}\n",
        "\n",
        "# para cada coluna de interesse\n",
        "for col in atributos:\n",
        "\n",
        "  # calcula limites para boxplot\n",
        "  Q1 = dataset[col].quantile(0.25)\n",
        "  Q3 = dataset[col].quantile(0.75)\n",
        "  IQR = Q3 - Q1\n",
        "\n",
        "  lim_inf = Q1 - 1.5 * IQR\n",
        "  lim_sup = Q3 + 1.5 * IQR\n",
        "\n",
        "  # calcula mediana da coluna\n",
        "  mediana = dataset[col].median()\n",
        "\n",
        "  # contagem dos outliers\n",
        "  mask = (dataset[col] < lim_inf) | (dataset[col] > lim_sup)\n",
        "  outliers_substituidos[col] = int(mask.sum())\n",
        "\n",
        "  #substituicao dos outliers no dataset auxiliar pelas medianas\n",
        "  dataset_outliers.loc[mask, col] = mediana\n",
        "\n",
        "  # armazena parametros do boxplot para acesso posterior\n",
        "  parametros_boxplot[col] = {\n",
        "      \"Q1\": Q1,\n",
        "      \"Q3\": Q3,\n",
        "      \"IQR\": IQR,\n",
        "      \"lim_inf\": lim_inf,\n",
        "      \"lim_sup\": lim_sup,\n",
        "      \"mediana\": mediana,\n",
        "      \"mascara\": mask\n",
        "  }\n",
        "\n",
        "\n",
        "# cria dataframes para impressao\n",
        "outliers_df = pd.DataFrame(\n",
        "    {\n",
        "    \"Coluna\": list(outliers_substituidos.keys()),\n",
        "    \"Outliers\": list(outliers_substituidos.values())\n",
        "    }\n",
        ").sort_values(\"Outliers\", ascending=False)\n",
        "\n",
        "outliers_df[\"% do total\"] = outliers_df[\"Outliers\"] / len(dataset) * 100\n",
        "\n",
        "# mostra quantidade de outliers\n",
        "print(outliers_df)\n"
      ],
      "metadata": {
        "id": "HQJmKiIa1fEY",
        "outputId": "fc7fcde9-2c00-45b0-a536-9d415b85d22c",
        "colab": {
          "base_uri": "https://localhost:8080/"
        }
      },
      "execution_count": 8,
      "outputs": [
        {
          "output_type": "stream",
          "name": "stdout",
          "text": [
            "           Coluna  Outliers  % do total\n",
            "3  hours-per-week      4488   27.567568\n",
            "1    capital-gain      1322    8.120393\n",
            "2    capital-loss       763    4.686732\n",
            "0             age        73    0.448403\n"
          ]
        }
      ]
    },
    {
      "cell_type": "markdown",
      "source": [
        "### Comparação grafica - age"
      ],
      "metadata": {
        "id": "ABaVxuLhBiYy"
      }
    },
    {
      "cell_type": "code",
      "source": [
        "col = 'age'\n",
        "fig, ax = plt.subplots(figsize=(5, 4))\n",
        "ax.boxplot(\n",
        "    [dataset[col], dataset_outliers[col]],\n",
        "    tick_labels=[\"Antes\", \"Depois\"]\n",
        ")\n",
        "ax.set_title(f\"Boxplot - {col}\")\n",
        "ax.set_ylabel(col)\n",
        "plt.tight_layout()\n",
        "plt.show()\n",
        "# mostra quantidade de outliers\n",
        "print(outliers_df[outliers_df[\"Coluna\"] == col])"
      ],
      "metadata": {
        "id": "_VAFQLY6BraB",
        "outputId": "cd61d32e-478a-4c06-a620-2e7040e92e9b",
        "colab": {
          "base_uri": "https://localhost:8080/",
          "height": 443
        }
      },
      "execution_count": 9,
      "outputs": [
        {
          "output_type": "display_data",
          "data": {
            "text/plain": [
              "<Figure size 500x400 with 1 Axes>"
            ],
            "image/png": "[encoded data removed]"
          },
          "metadata": {}
        },
        {
          "output_type": "stream",
          "name": "stdout",
          "text": [
            "  Coluna  Outliers  % do total\n",
            "0    age        73    0.448403\n"
          ]
        }
      ]
    },
    {
      "cell_type": "markdown",
      "source": [
        "Vemos que menos de 1% dos valores seriam substituídos, o que é totalmente aceitável. Embora estudar a faixa etária em particular possa ser interessante, talvez seja possivel suavizar os dados aplicando substituição dos outliers. Mas me pergunto se seria adequado ocupar a mediana nesse caso. Me parece que o mais adequado seria substituir pelo limite superior do boxplot."
      ],
      "metadata": {
        "id": "94wU_-sOGAmB"
      }
    },
    {
      "cell_type": "markdown",
      "source": [
        "### Comparação grafica - capital-gain"
      ],
      "metadata": {
        "id": "nhvqfQNdCOTJ"
      }
    },
    {
      "cell_type": "code",
      "source": [
        "col = 'capital-gain'\n",
        "fig, ax = plt.subplots(figsize=(5, 4))\n",
        "ax.boxplot(\n",
        "    [dataset[col], dataset_outliers[col]],\n",
        "    tick_labels=[\"Antes\", \"Depois\"]\n",
        ")\n",
        "ax.set_title(f\"Boxplot - {col}\")\n",
        "ax.set_ylabel(col)\n",
        "plt.tight_layout()\n",
        "plt.show()\n",
        "# mostra quantidade de outliers\n",
        "print(outliers_df[outliers_df[\"Coluna\"] == col])"
      ],
      "metadata": {
        "id": "sdVNkppCCf9e",
        "outputId": "93dc65fd-e2ca-4473-bf4b-d95131e5786e",
        "colab": {
          "base_uri": "https://localhost:8080/",
          "height": 443
        }
      },
      "execution_count": 10,
      "outputs": [
        {
          "output_type": "display_data",
          "data": {
            "text/plain": [
              "<Figure size 500x400 with 1 Axes>"
            ],
            "image/png": "[encoded data removed]"
          },
          "metadata": {}
        },
        {
          "output_type": "stream",
          "name": "stdout",
          "text": [
            "         Coluna  Outliers  % do total\n",
            "1  capital-gain      1322    8.120393\n"
          ]
        }
      ]
    },
    {
      "cell_type": "markdown",
      "source": [
        "Vemos que seriam substituidos 8% do total, o que é um valor significativo mas ainda aceitável. Entrentanto, vemos que perdemos completamente a informação associada a esse atributo, pois todos os valores interessantes são subsituidos pela mediana (nesse caso zero). Logo, me parece não ser uma boa idéia fazer essa substituição."
      ],
      "metadata": {
        "id": "nHa9vEc_EQgj"
      }
    },
    {
      "cell_type": "markdown",
      "source": [
        "### Comparação grafica - capital-loss"
      ],
      "metadata": {
        "id": "wndOF5eUCSXw"
      }
    },
    {
      "cell_type": "code",
      "source": [
        "col = 'capital-loss'\n",
        "fig, ax = plt.subplots(figsize=(5, 4))\n",
        "ax.boxplot(\n",
        "    [dataset[col], dataset_outliers[col]],\n",
        "    tick_labels=[\"Antes\", \"Depois\"]\n",
        ")\n",
        "ax.set_title(f\"Boxplot - {col}\")\n",
        "ax.set_ylabel(col)\n",
        "plt.tight_layout()\n",
        "plt.show()\n",
        "# mostra quantidade de outliers\n",
        "print(outliers_df[outliers_df[\"Coluna\"] == col])"
      ],
      "metadata": {
        "id": "XbbMFMg3CmRv",
        "outputId": "f85a5dfa-7a8b-4fc4-9f10-dc5f10ed9c20",
        "colab": {
          "base_uri": "https://localhost:8080/",
          "height": 443
        }
      },
      "execution_count": 11,
      "outputs": [
        {
          "output_type": "display_data",
          "data": {
            "text/plain": [
              "<Figure size 500x400 with 1 Axes>"
            ],
            "image/png": "[encoded data removed]"
          },
          "metadata": {}
        },
        {
          "output_type": "stream",
          "name": "stdout",
          "text": [
            "         Coluna  Outliers  % do total\n",
            "2  capital-loss       763    4.686732\n"
          ]
        }
      ]
    },
    {
      "cell_type": "markdown",
      "source": [
        "Da mesma forma que no atributo capital-gain, vemos que as substituições são relativamente aceitaveis do ponto de vista quantitativo, mas ocorre o mesmo fenômeno anterior. Logo, também me parece não ser uma boa idéia fazer essa substituição."
      ],
      "metadata": {
        "id": "97XqjZuJEtEE"
      }
    },
    {
      "cell_type": "markdown",
      "source": [
        "### Comparação grafica - hours-per-week"
      ],
      "metadata": {
        "id": "3vpJzQakCUnQ"
      }
    },
    {
      "cell_type": "code",
      "source": [
        "col = 'hours-per-week'\n",
        "fig, ax = plt.subplots(figsize=(5, 4))\n",
        "ax.boxplot(\n",
        "    [dataset[col], dataset_outliers[col]],\n",
        "    tick_labels=[\"Antes\", \"Depois\"]\n",
        ")\n",
        "ax.set_title(f\"Boxplot - {col}\")\n",
        "ax.set_ylabel(col)\n",
        "plt.tight_layout()\n",
        "plt.show()\n",
        "# mostra quantidade de outliers\n",
        "print(outliers_df[outliers_df[\"Coluna\"] == col])"
      ],
      "metadata": {
        "id": "qlzbtq-fC3YR",
        "outputId": "e2f5bd9e-3f5f-421c-c242-4286a9c95613",
        "colab": {
          "base_uri": "https://localhost:8080/",
          "height": 443
        }
      },
      "execution_count": 12,
      "outputs": [
        {
          "output_type": "display_data",
          "data": {
            "text/plain": [
              "<Figure size 500x400 with 1 Axes>"
            ],
            "image/png": "[encoded data removed]"
          },
          "metadata": {}
        },
        {
          "output_type": "stream",
          "name": "stdout",
          "text": [
            "           Coluna  Outliers  % do total\n",
            "3  hours-per-week      4488   27.567568\n"
          ]
        }
      ]
    },
    {
      "cell_type": "markdown",
      "source": [
        "Diferente dos dois atributos anteriores, vemos que 27% dos valores seriam substituitos, ou seja, quase 1/3 dos valores seriam substituídos. Além do aspecto numérico, observando o aspecto qualitativo da informação associada ao atributo, me parece que o numero de horas trabalhadas por semana são dados relevantes. Considerando que a origem dos dados é de uma base estatística real, creio que não podemos aceitar tamanha mudança nos dados."
      ],
      "metadata": {
        "id": "6wRNCfOLFA1O"
      }
    },
    {
      "cell_type": "markdown",
      "source": [
        "### Outliers - conclusão\n",
        "Vamos aplicar apenas a substituição de outliers para o atributo \"age\", mas vamos utilizar o valor do limite superior ao inves da mediana."
      ],
      "metadata": {
        "id": "XK0Fx0uiFwYb"
      }
    },
    {
      "cell_type": "code",
      "source": [
        "col = 'age'\n",
        "dataset_outliers.loc[parametros_boxplot[col][\"mascara\"], col] = parametros_boxplot[col][\"lim_sup\"]\n",
        "\n",
        "fig, ax = plt.subplots(figsize=(5, 4))\n",
        "ax.boxplot(\n",
        "    [dataset[col], dataset_outliers[col]],\n",
        "    tick_labels=[\"Antes\", \"Depois\"]\n",
        ")\n",
        "ax.set_title(f\"Boxplot - {col}\")\n",
        "ax.set_ylabel(col)\n",
        "plt.tight_layout()\n",
        "plt.show()\n",
        "# mostra quantidade de outliers\n",
        "print(outliers_df[outliers_df[\"Coluna\"] == col])\n",
        "\n",
        "# substitui definitivamente os outliers de \"age\"\n",
        "dataset.loc[parametros_boxplot[col][\"mascara\"], col] = parametros_boxplot[col][\"lim_sup\"]\n",
        "\n",
        "#e agora comprovamos que não existem mais valores outliers\n",
        "print(\"Limite superior: \", parametros_boxplot[col][\"lim_sup\"])\n",
        "print(\"\\ndataset['age'].unique()=\", np.sort(dataset[col].unique()))"
      ],
      "metadata": {
        "id": "PIWExgqQH4a6",
        "outputId": "78ac9490-215d-452a-806a-e5ddfde75d49",
        "colab": {
          "base_uri": "https://localhost:8080/",
          "height": 532
        }
      },
      "execution_count": 13,
      "outputs": [
        {
          "output_type": "display_data",
          "data": {
            "text/plain": [
              "<Figure size 500x400 with 1 Axes>"
            ],
            "image/png": "[encoded data removed]"
          },
          "metadata": {}
        },
        {
          "output_type": "stream",
          "name": "stdout",
          "text": [
            "  Coluna  Outliers  % do total\n",
            "0    age        73    0.448403\n",
            "Limite superior:  78.0\n",
            "\n",
            "dataset['age'].unique()= [17 18 19 20 21 22 23 24 25 26 27 28 29 30 31 32 33 34 35 36 37 38 39 40\n",
            " 41 42 43 44 45 46 47 48 49 50 51 52 53 54 55 56 57 58 59 60 61 62 63 64\n",
            " 65 66 67 68 69 70 71 72 73 74 75 76 77 78]\n"
          ]
        }
      ]
    },
    {
      "cell_type": "markdown",
      "source": [
        "# Transformação de Atributos Discretos"
      ],
      "metadata": {
        "id": "ea-IrBWl-9D7"
      }
    },
    {
      "cell_type": "code",
      "source": [
        "# transformacao de atributos numericos\n",
        "dataset.head(10)"
      ],
      "metadata": {
        "colab": {
          "base_uri": "https://localhost:8080/",
          "height": 363
        },
        "id": "tgg9iF2W_Usw",
        "outputId": "356a041e-6165-4201-eae5-fe79e225d787"
      },
      "execution_count": 14,
      "outputs": [
        {
          "output_type": "execute_result",
          "data": {
            "text/plain": [
              "    age         workclass     education  education-num      marital-status  \\\n",
              "0    25           Private          11th              7       Never-married   \n",
              "1    38           Private       HS-grad              9  Married-civ-spouse   \n",
              "2    28         Local-gov    Assoc-acdm             12  Married-civ-spouse   \n",
              "4    18           Private  Some-college             10       Never-married   \n",
              "5    34           Private          10th              6       Never-married   \n",
              "6    29           Private       HS-grad              9       Never-married   \n",
              "7    63  Self-emp-not-inc   Prof-school             15  Married-civ-spouse   \n",
              "8    24           Private  Some-college             10       Never-married   \n",
              "9    55           Private       7th-8th              4  Married-civ-spouse   \n",
              "10   65           Private       HS-grad              9  Married-civ-spouse   \n",
              "\n",
              "           occupation   relationship   race     sex  capital-gain  \\\n",
              "0   Machine-op-inspct      Own-child  Black    Male             0   \n",
              "1     Farming-fishing        Husband  White    Male             0   \n",
              "2     Protective-serv        Husband  White    Male             0   \n",
              "4      Prof-specialty      Own-child  White  Female             0   \n",
              "5       Other-service  Not-in-family  White    Male             0   \n",
              "6      Prof-specialty      Unmarried  Black    Male             0   \n",
              "7      Prof-specialty        Husband  White    Male          3103   \n",
              "8       Other-service      Unmarried  White  Female             0   \n",
              "9        Craft-repair        Husband  White    Male             0   \n",
              "10  Machine-op-inspct        Husband  White    Male          6418   \n",
              "\n",
              "    capital-loss  hours-per-week native-country  class  \n",
              "0              0              40  United-States  <=50K  \n",
              "1              0              50  United-States  <=50K  \n",
              "2              0              40  United-States   >50K  \n",
              "4              0              30  United-States  <=50K  \n",
              "5              0              30  United-States  <=50K  \n",
              "6              0              40  United-States  <=50K  \n",
              "7              0              32  United-States   >50K  \n",
              "8              0              40  United-States  <=50K  \n",
              "9              0              10  United-States  <=50K  \n",
              "10             0              40  United-States   >50K  "
            ],
            "text/html": [
              "\n",
              "  <div id=\"df-0c38ad06-94f1-432a-9ebf-a97123021800\" class=\"colab-df-container\">\n",
              "    <div>\n",
              "<style scoped>\n",
              "    .dataframe tbody tr th:only-of-type {\n",
              "        vertical-align: middle;\n",
              "    }\n",
              "\n",
              "    .dataframe tbody tr th {\n",
              "        vertical-align: top;\n",
              "    }\n",
              "\n",
              "    .dataframe thead th {\n",
              "        text-align: right;\n",
              "    }\n",
              "</style>\n",
              "<table border=\"1\" class=\"dataframe\">\n",
              "  <thead>\n",
              "    <tr style=\"text-align: right;\">\n",
              "      <th></th>\n",
              "      <th>age</th>\n",
              "      <th>workclass</th>\n",
              "      <th>education</th>\n",
              "      <th>education-num</th>\n",
              "      <th>marital-status</th>\n",
              "      <th>occupation</th>\n",
              "      <th>relationship</th>\n",
              "      <th>race</th>\n",
              "      <th>sex</th>\n",
              "      <th>capital-gain</th>\n",
              "      <th>capital-loss</th>\n",
              "      <th>hours-per-week</th>\n",
              "      <th>native-country</th>\n",
              "      <th>class</th>\n",
              "    </tr>\n",
              "  </thead>\n",
              "  <tbody>\n",
              "    <tr>\n",
              "      <th>0</th>\n",
              "      <td>25</td>\n",
              "      <td>Private</td>\n",
              "      <td>11th</td>\n",
              "      <td>7</td>\n",
              "      <td>Never-married</td>\n",
              "      <td>Machine-op-inspct</td>\n",
              "      <td>Own-child</td>\n",
              "      <td>Black</td>\n",
              "      <td>Male</td>\n",
              "      <td>0</td>\n",
              "      <td>0</td>\n",
              "      <td>40</td>\n",
              "      <td>United-States</td>\n",
              "      <td>&lt;=50K</td>\n",
              "    </tr>\n",
              "    <tr>\n",
              "      <th>1</th>\n",
              "      <td>38</td>\n",
              "      <td>Private</td>\n",
              "      <td>HS-grad</td>\n",
              "      <td>9</td>\n",
              "      <td>Married-civ-spouse</td>\n",
              "      <td>Farming-fishing</td>\n",
              "      <td>Husband</td>\n",
              "      <td>White</td>\n",
              "      <td>Male</td>\n",
              "      <td>0</td>\n",
              "      <td>0</td>\n",
              "      <td>50</td>\n",
              "      <td>United-States</td>\n",
              "      <td>&lt;=50K</td>\n",
              "    </tr>\n",
              "    <tr>\n",
              "      <th>2</th>\n",
              "      <td>28</td>\n",
              "      <td>Local-gov</td>\n",
              "      <td>Assoc-acdm</td>\n",
              "      <td>12</td>\n",
              "      <td>Married-civ-spouse</td>\n",
              "      <td>Protective-serv</td>\n",
              "      <td>Husband</td>\n",
              "      <td>White</td>\n",
              "      <td>Male</td>\n",
              "      <td>0</td>\n",
              "      <td>0</td>\n",
              "      <td>40</td>\n",
              "      <td>United-States</td>\n",
              "      <td>&gt;50K</td>\n",
              "    </tr>\n",
              "    <tr>\n",
              "      <th>4</th>\n",
              "      <td>18</td>\n",
              "      <td>Private</td>\n",
              "      <td>Some-college</td>\n",
              "      <td>10</td>\n",
              "      <td>Never-married</td>\n",
              "      <td>Prof-specialty</td>\n",
              "      <td>Own-child</td>\n",
              "      <td>White</td>\n",
              "      <td>Female</td>\n",
              "      <td>0</td>\n",
              "      <td>0</td>\n",
              "      <td>30</td>\n",
              "      <td>United-States</td>\n",
              "      <td>&lt;=50K</td>\n",
              "    </tr>\n",
              "    <tr>\n",
              "      <th>5</th>\n",
              "      <td>34</td>\n",
              "      <td>Private</td>\n",
              "      <td>10th</td>\n",
              "      <td>6</td>\n",
              "      <td>Never-married</td>\n",
              "      <td>Other-service</td>\n",
              "      <td>Not-in-family</td>\n",
              "      <td>White</td>\n",
              "      <td>Male</td>\n",
              "      <td>0</td>\n",
              "      <td>0</td>\n",
              "      <td>30</td>\n",
              "      <td>United-States</td>\n",
              "      <td>&lt;=50K</td>\n",
              "    </tr>\n",
              "    <tr>\n",
              "      <th>6</th>\n",
              "      <td>29</td>\n",
              "      <td>Private</td>\n",
              "      <td>HS-grad</td>\n",
              "      <td>9</td>\n",
              "      <td>Never-married</td>\n",
              "      <td>Prof-specialty</td>\n",
              "      <td>Unmarried</td>\n",
              "      <td>Black</td>\n",
              "      <td>Male</td>\n",
              "      <td>0</td>\n",
              "      <td>0</td>\n",
              "      <td>40</td>\n",
              "      <td>United-States</td>\n",
              "      <td>&lt;=50K</td>\n",
              "    </tr>\n",
              "    <tr>\n",
              "      <th>7</th>\n",
              "      <td>63</td>\n",
              "      <td>Self-emp-not-inc</td>\n",
              "      <td>Prof-school</td>\n",
              "      <td>15</td>\n",
              "      <td>Married-civ-spouse</td>\n",
              "      <td>Prof-specialty</td>\n",
              "      <td>Husband</td>\n",
              "      <td>White</td>\n",
              "      <td>Male</td>\n",
              "      <td>3103</td>\n",
              "      <td>0</td>\n",
              "      <td>32</td>\n",
              "      <td>United-States</td>\n",
              "      <td>&gt;50K</td>\n",
              "    </tr>\n",
              "    <tr>\n",
              "      <th>8</th>\n",
              "      <td>24</td>\n",
              "      <td>Private</td>\n",
              "      <td>Some-college</td>\n",
              "      <td>10</td>\n",
              "      <td>Never-married</td>\n",
              "      <td>Other-service</td>\n",
              "      <td>Unmarried</td>\n",
              "      <td>White</td>\n",
              "      <td>Female</td>\n",
              "      <td>0</td>\n",
              "      <td>0</td>\n",
              "      <td>40</td>\n",
              "      <td>United-States</td>\n",
              "      <td>&lt;=50K</td>\n",
              "    </tr>\n",
              "    <tr>\n",
              "      <th>9</th>\n",
              "      <td>55</td>\n",
              "      <td>Private</td>\n",
              "      <td>7th-8th</td>\n",
              "      <td>4</td>\n",
              "      <td>Married-civ-spouse</td>\n",
              "      <td>Craft-repair</td>\n",
              "      <td>Husband</td>\n",
              "      <td>White</td>\n",
              "      <td>Male</td>\n",
              "      <td>0</td>\n",
              "      <td>0</td>\n",
              "      <td>10</td>\n",
              "      <td>United-States</td>\n",
              "      <td>&lt;=50K</td>\n",
              "    </tr>\n",
              "    <tr>\n",
              "      <th>10</th>\n",
              "      <td>65</td>\n",
              "      <td>Private</td>\n",
              "      <td>HS-grad</td>\n",
              "      <td>9</td>\n",
              "      <td>Married-civ-spouse</td>\n",
              "      <td>Machine-op-inspct</td>\n",
              "      <td>Husband</td>\n",
              "      <td>White</td>\n",
              "      <td>Male</td>\n",
              "      <td>6418</td>\n",
              "      <td>0</td>\n",
              "      <td>40</td>\n",
              "      <td>United-States</td>\n",
              "      <td>&gt;50K</td>\n",
              "    </tr>\n",
              "  </tbody>\n",
              "</table>\n",
              "</div>\n",
              "    <div class=\"colab-df-buttons\">\n",
              "\n",
              "  <div class=\"colab-df-container\">\n",
              "    <button class=\"colab-df-convert\" onclick=\"convertToInteractive('df-0c38ad06-94f1-432a-9ebf-a97123021800')\"\n",
              "            title=\"Convert this dataframe to an interactive table.\"\n",
              "            style=\"display:none;\">\n",
              "\n",
              "  <svg xmlns=\"http://www.w3.org/2000/svg\" height=\"24px\" viewBox=\"0 -960 960 960\">\n",
              "    <path d=\"M120-120v-720h720v720H120Zm60-500h600v-160H180v160Zm220 220h160v-160H400v160Zm0 220h160v-160H400v160ZM180-400h160v-160H180v160Zm440 0h160v-160H620v160ZM180-180h160v-160H180v160Zm440 0h160v-160H620v160Z\"/>\n",
              "  </svg>\n",
              "    </button>\n",
              "\n",
              "  <style>\n",
              "    .colab-df-container {\n",
              "      display:flex;\n",
              "      gap: 12px;\n",
              "    }\n",
              "\n",
              "    .colab-df-convert {\n",
              "      background-color: #E8F0FE;\n",
              "      border: none;\n",
              "      border-radius: 50%;\n",
              "      cursor: pointer;\n",
              "      display: none;\n",
              "      fill: #1967D2;\n",
              "      height: 32px;\n",
              "      padding: 0 0 0 0;\n",
              "      width: 32px;\n",
              "    }\n",
              "\n",
              "    .colab-df-convert:hover {\n",
              "      background-color: #E2EBFA;\n",
              "      box-shadow: 0px 1px 2px rgba(60, 64, 67, 0.3), 0px 1px 3px 1px rgba(60, 64, 67, 0.15);\n",
              "      fill: #174EA6;\n",
              "    }\n",
              "\n",
              "    .colab-df-buttons div {\n",
              "      margin-bottom: 4px;\n",
              "    }\n",
              "\n",
              "    [theme=dark] .colab-df-convert {\n",
              "      background-color: #3B4455;\n",
              "      fill: #D2E3FC;\n",
              "    }\n",
              "\n",
              "    [theme=dark] .colab-df-convert:hover {\n",
              "      background-color: #434B5C;\n",
              "      box-shadow: 0px 1px 3px 1px rgba(0, 0, 0, 0.15);\n",
              "      filter: drop-shadow(0px 1px 2px rgba(0, 0, 0, 0.3));\n",
              "      fill: #FFFFFF;\n",
              "    }\n",
              "  </style>\n",
              "\n",
              "    <script>\n",
              "      const buttonEl =\n",
              "        document.querySelector('#df-0c38ad06-94f1-432a-9ebf-a97123021800 button.colab-df-convert');\n",
              "      buttonEl.style.display =\n",
              "        google.colab.kernel.accessAllowed ? 'block' : 'none';\n",
              "\n",
              "      async function convertToInteractive(key) {\n",
              "        const element = document.querySelector('#df-0c38ad06-94f1-432a-9ebf-a97123021800');\n",
              "        const dataTable =\n",
              "          await google.colab.kernel.invokeFunction('convertToInteractive',\n",
              "                                                    [key], {});\n",
              "        if (!dataTable) return;\n",
              "\n",
              "        const docLinkHtml = 'Like what you see? Visit the ' +\n",
              "          '<a target=\"_blank\" href=https://colab.research.google.com/notebooks/data_table.ipynb>data table notebook</a>'\n",
              "          + ' to learn more about interactive tables.';\n",
              "        element.innerHTML = '';\n",
              "        dataTable['output_type'] = 'display_data';\n",
              "        await google.colab.output.renderOutput(dataTable, element);\n",
              "        const docLink = document.createElement('div');\n",
              "        docLink.innerHTML = docLinkHtml;\n",
              "        element.appendChild(docLink);\n",
              "      }\n",
              "    </script>\n",
              "  </div>\n",
              "\n",
              "\n",
              "    <div id=\"df-b4d09837-d78c-433b-a6f5-af5bd3cb3ef8\">\n",
              "      <button class=\"colab-df-quickchart\" onclick=\"quickchart('df-b4d09837-d78c-433b-a6f5-af5bd3cb3ef8')\"\n",
              "                title=\"Suggest charts\"\n",
              "                style=\"display:none;\">\n",
              "\n",
              "<svg xmlns=\"http://www.w3.org/2000/svg\" height=\"24px\"viewBox=\"0 0 24 24\"\n",
              "     width=\"24px\">\n",
              "    <g>\n",
              "        <path d=\"M19 3H5c-1.1 0-2 .9-2 2v14c0 1.1.9 2 2 2h14c1.1 0 2-.9 2-2V5c0-1.1-.9-2-2-2zM9 17H7v-7h2v7zm4 0h-2V7h2v10zm4 0h-2v-4h2v4z\"/>\n",
              "    </g>\n",
              "</svg>\n",
              "      </button>\n",
              "\n",
              "<style>\n",
              "  .colab-df-quickchart {\n",
              "      --bg-color: #E8F0FE;\n",
              "      --fill-color: #1967D2;\n",
              "      --hover-bg-color: #E2EBFA;\n",
              "      --hover-fill-color: #174EA6;\n",
              "      --disabled-fill-color: #AAA;\n",
              "      --disabled-bg-color: #DDD;\n",
              "  }\n",
              "\n",
              "  [theme=dark] .colab-df-quickchart {\n",
              "      --bg-color: #3B4455;\n",
              "      --fill-color: #D2E3FC;\n",
              "      --hover-bg-color: #434B5C;\n",
              "      --hover-fill-color: #FFFFFF;\n",
              "      --disabled-bg-color: #3B4455;\n",
              "      --disabled-fill-color: #666;\n",
              "  }\n",
              "\n",
              "  .colab-df-quickchart {\n",
              "    background-color: var(--bg-color);\n",
              "    border: none;\n",
              "    border-radius: 50%;\n",
              "    cursor: pointer;\n",
              "    display: none;\n",
              "    fill: var(--fill-color);\n",
              "    height: 32px;\n",
              "    padding: 0;\n",
              "    width: 32px;\n",
              "  }\n",
              "\n",
              "  .colab-df-quickchart:hover {\n",
              "    background-color: var(--hover-bg-color);\n",
              "    box-shadow: 0 1px 2px rgba(60, 64, 67, 0.3), 0 1px 3px 1px rgba(60, 64, 67, 0.15);\n",
              "    fill: var(--button-hover-fill-color);\n",
              "  }\n",
              "\n",
              "  .colab-df-quickchart-complete:disabled,\n",
              "  .colab-df-quickchart-complete:disabled:hover {\n",
              "    background-color: var(--disabled-bg-color);\n",
              "    fill: var(--disabled-fill-color);\n",
              "    box-shadow: none;\n",
              "  }\n",
              "\n",
              "  .colab-df-spinner {\n",
              "    border: 2px solid var(--fill-color);\n",
              "    border-color: transparent;\n",
              "    border-bottom-color: var(--fill-color);\n",
              "    animation:\n",
              "      spin 1s steps(1) infinite;\n",
              "  }\n",
              "\n",
              "  @keyframes spin {\n",
              "    0% {\n",
              "      border-color: transparent;\n",
              "      border-bottom-color: var(--fill-color);\n",
              "      border-left-color: var(--fill-color);\n",
              "    }\n",
              "    20% {\n",
              "      border-color: transparent;\n",
              "      border-left-color: var(--fill-color);\n",
              "      border-top-color: var(--fill-color);\n",
              "    }\n",
              "    30% {\n",
              "      border-color: transparent;\n",
              "      border-left-color: var(--fill-color);\n",
              "      border-top-color: var(--fill-color);\n",
              "      border-right-color: var(--fill-color);\n",
              "    }\n",
              "    40% {\n",
              "      border-color: transparent;\n",
              "      border-right-color: var(--fill-color);\n",
              "      border-top-color: var(--fill-color);\n",
              "    }\n",
              "    60% {\n",
              "      border-color: transparent;\n",
              "      border-right-color: var(--fill-color);\n",
              "    }\n",
              "    80% {\n",
              "      border-color: transparent;\n",
              "      border-right-color: var(--fill-color);\n",
              "      border-bottom-color: var(--fill-color);\n",
              "    }\n",
              "    90% {\n",
              "      border-color: transparent;\n",
              "      border-bottom-color: var(--fill-color);\n",
              "    }\n",
              "  }\n",
              "</style>\n",
              "\n",
              "      <script>\n",
              "        async function quickchart(key) {\n",
              "          const quickchartButtonEl =\n",
              "            document.querySelector('#' + key + ' button');\n",
              "          quickchartButtonEl.disabled = true;  // To prevent multiple clicks.\n",
              "          quickchartButtonEl.classList.add('colab-df-spinner');\n",
              "          try {\n",
              "            const charts = await google.colab.kernel.invokeFunction(\n",
              "                'suggestCharts', [key], {});\n",
              "          } catch (error) {\n",
              "            console.error('Error during call to suggestCharts:', error);\n",
              "          }\n",
              "          quickchartButtonEl.classList.remove('colab-df-spinner');\n",
              "          quickchartButtonEl.classList.add('colab-df-quickchart-complete');\n",
              "        }\n",
              "        (() => {\n",
              "          let quickchartButtonEl =\n",
              "            document.querySelector('#df-b4d09837-d78c-433b-a6f5-af5bd3cb3ef8 button');\n",
              "          quickchartButtonEl.style.display =\n",
              "            google.colab.kernel.accessAllowed ? 'block' : 'none';\n",
              "        })();\n",
              "      </script>\n",
              "    </div>\n",
              "\n",
              "    </div>\n",
              "  </div>\n"
            ],
            "application/vnd.google.colaboratory.intrinsic+json": {
              "type": "dataframe",
              "variable_name": "dataset",
              "summary": "{\n  \"name\": \"dataset\",\n  \"rows\": 16280,\n  \"fields\": [\n    {\n      \"column\": \"age\",\n      \"properties\": {\n        \"dtype\": \"number\",\n        \"std\": 13,\n        \"min\": 17,\n        \"max\": 78,\n        \"num_unique_values\": 62,\n        \"samples\": [\n          77,\n          60,\n          25\n        ],\n        \"semantic_type\": \"\",\n        \"description\": \"\"\n      }\n    },\n    {\n      \"column\": \"workclass\",\n      \"properties\": {\n        \"dtype\": \"category\",\n        \"num_unique_values\": 8,\n        \"samples\": [\n          \"Local-gov\",\n          \"Self-emp-inc\",\n          \"Private\"\n        ],\n        \"semantic_type\": \"\",\n        \"description\": \"\"\n      }\n    },\n    {\n      \"column\": \"education\",\n      \"properties\": {\n        \"dtype\": \"category\",\n        \"num_unique_values\": 16,\n        \"samples\": [\n          \"11th\",\n          \"HS-grad\",\n          \"Prof-school\"\n        ],\n        \"semantic_type\": \"\",\n        \"description\": \"\"\n      }\n    },\n    {\n      \"column\": \"education-num\",\n      \"properties\": {\n        \"dtype\": \"number\",\n        \"std\": 2,\n        \"min\": 1,\n        \"max\": 16,\n        \"num_unique_values\": 16,\n        \"samples\": [\n          7,\n          9,\n          15\n        ],\n        \"semantic_type\": \"\",\n        \"description\": \"\"\n      }\n    },\n    {\n      \"column\": \"marital-status\",\n      \"properties\": {\n        \"dtype\": \"category\",\n        \"num_unique_values\": 7,\n        \"samples\": [\n          \"Never-married\",\n          \"Married-civ-spouse\",\n          \"Married-spouse-absent\"\n        ],\n        \"semantic_type\": \"\",\n        \"description\": \"\"\n      }\n    },\n    {\n      \"column\": \"occupation\",\n      \"properties\": {\n        \"dtype\": \"category\",\n        \"num_unique_values\": 14,\n        \"samples\": [\n          \"Sales\",\n          \"Transport-moving\",\n          \"Machine-op-inspct\"\n        ],\n        \"semantic_type\": \"\",\n        \"description\": \"\"\n      }\n    },\n    {\n      \"column\": \"relationship\",\n      \"properties\": {\n        \"dtype\": \"category\",\n        \"num_unique_values\": 6,\n        \"samples\": [\n          \"Own-child\",\n          \"Husband\",\n          \"Other-relative\"\n        ],\n        \"semantic_type\": \"\",\n        \"description\": \"\"\n      }\n    },\n    {\n      \"column\": \"race\",\n      \"properties\": {\n        \"dtype\": \"category\",\n        \"num_unique_values\": 5,\n        \"samples\": [\n          \"White\",\n          \"Amer-Indian-Eskimo\",\n          \"Asian-Pac-Islander\"\n        ],\n        \"semantic_type\": \"\",\n        \"description\": \"\"\n      }\n    },\n    {\n      \"column\": \"sex\",\n      \"properties\": {\n        \"dtype\": \"category\",\n        \"num_unique_values\": 2,\n        \"samples\": [\n          \"Female\",\n          \"Male\"\n        ],\n        \"semantic_type\": \"\",\n        \"description\": \"\"\n      }\n    },\n    {\n      \"column\": \"capital-gain\",\n      \"properties\": {\n        \"dtype\": \"number\",\n        \"std\": 7583,\n        \"min\": 0,\n        \"max\": 99999,\n        \"num_unique_values\": 113,\n        \"samples\": [\n          34095,\n          7688\n        ],\n        \"semantic_type\": \"\",\n        \"description\": \"\"\n      }\n    },\n    {\n      \"column\": \"capital-loss\",\n      \"properties\": {\n        \"dtype\": \"number\",\n        \"std\": 403,\n        \"min\": 0,\n        \"max\": 3770,\n        \"num_unique_values\": 82,\n        \"samples\": [\n          1258,\n          0\n        ],\n        \"semantic_type\": \"\",\n        \"description\": \"\"\n      }\n    },\n    {\n      \"column\": \"hours-per-week\",\n      \"properties\": {\n        \"dtype\": \"number\",\n        \"std\": 12,\n        \"min\": 1,\n        \"max\": 99,\n        \"num_unique_values\": 89,\n        \"samples\": [\n          17,\n          23\n        ],\n        \"semantic_type\": \"\",\n        \"description\": \"\"\n      }\n    },\n    {\n      \"column\": \"native-country\",\n      \"properties\": {\n        \"dtype\": \"category\",\n        \"num_unique_values\": 40,\n        \"samples\": [\n          \"Laos\",\n          \"India\"\n        ],\n        \"semantic_type\": \"\",\n        \"description\": \"\"\n      }\n    },\n    {\n      \"column\": \"class\",\n      \"properties\": {\n        \"dtype\": \"category\",\n        \"num_unique_values\": 2,\n        \"samples\": [\n          \">50K\",\n          \"<=50K\"\n        ],\n        \"semantic_type\": \"\",\n        \"description\": \"\"\n      }\n    }\n  ]\n}"
            }
          },
          "metadata": {},
          "execution_count": 14
        }
      ]
    },
    {
      "cell_type": "code",
      "source": [
        "# Transformação de atributos discretos"
      ],
      "metadata": {
        "id": "qZitfeK6_dnD"
      },
      "execution_count": 15,
      "outputs": []
    },
    {
      "cell_type": "markdown",
      "source": [
        "## Analisando colunas categoricas"
      ],
      "metadata": {
        "id": "9AEm8y_UfO7F"
      }
    },
    {
      "cell_type": "code",
      "source": [
        "# Obtendo os nomes das colunas Categóricas\n",
        "tipos_categoricos = ['object']\n",
        "vetor_categoricos = dataset.select_dtypes(include=tipos_categoricos)\n",
        "\n",
        "print(\"\\n\")\n",
        "for atributo in vetor_categoricos:\n",
        "  print(dataset[atributo].value_counts())\n",
        "  print()"
      ],
      "metadata": {
        "id": "R5sm3hJffeZo",
        "outputId": "64f69e42-b5d1-4020-acd7-e0982e5a621d",
        "colab": {
          "base_uri": "https://localhost:8080/"
        }
      },
      "execution_count": 16,
      "outputs": [
        {
          "output_type": "stream",
          "name": "stdout",
          "text": [
            "\n",
            "\n",
            "workclass\n",
            "Private             12172\n",
            "Self-emp-not-inc     1321\n",
            "Local-gov            1043\n",
            "State-gov             683\n",
            "Self-emp-inc          579\n",
            "Federal-gov           472\n",
            "Without-pay             7\n",
            "Never-worked            3\n",
            "Name: count, dtype: int64\n",
            "\n",
            "education\n",
            "HS-grad         5283\n",
            "Some-college    3586\n",
            "Bachelors       2670\n",
            "Masters          934\n",
            "Assoc-voc        679\n",
            "11th             637\n",
            "Assoc-acdm       534\n",
            "10th             456\n",
            "7th-8th          309\n",
            "Prof-school      258\n",
            "9th              242\n",
            "12th             224\n",
            "Doctorate        181\n",
            "5th-6th          176\n",
            "1st-4th           79\n",
            "Preschool         32\n",
            "Name: count, dtype: int64\n",
            "\n",
            "marital-status\n",
            "Married-civ-spouse       7402\n",
            "Never-married            5434\n",
            "Divorced                 2190\n",
            "Widowed                   525\n",
            "Separated                 505\n",
            "Married-spouse-absent     210\n",
            "Married-AF-spouse          14\n",
            "Name: count, dtype: int64\n",
            "\n",
            "occupation\n",
            "Prof-specialty       2998\n",
            "Exec-managerial      2020\n",
            "Craft-repair         2013\n",
            "Sales                1854\n",
            "Adm-clerical         1841\n",
            "Other-service        1628\n",
            "Machine-op-inspct    1019\n",
            "Transport-moving      758\n",
            "Handlers-cleaners     702\n",
            "Tech-support          518\n",
            "Farming-fishing       496\n",
            "Protective-serv       334\n",
            "Priv-house-serv        93\n",
            "Armed-Forces            6\n",
            "Name: count, dtype: int64\n",
            "\n",
            "relationship\n",
            "Husband           6522\n",
            "Not-in-family     4278\n",
            "Own-child         2513\n",
            "Unmarried         1679\n",
            "Wife               763\n",
            "Other-relative     525\n",
            "Name: count, dtype: int64\n",
            "\n",
            "race\n",
            "White                 13946\n",
            "Black                  1560\n",
            "Asian-Pac-Islander      480\n",
            "Amer-Indian-Eskimo      159\n",
            "Other                   135\n",
            "Name: count, dtype: int64\n",
            "\n",
            "sex\n",
            "Male      10859\n",
            "Female     5421\n",
            "Name: count, dtype: int64\n",
            "\n",
            "native-country\n",
            "United-States                 14935\n",
            "Mexico                          308\n",
            "Philippines                      97\n",
            "Puerto-Rico                      70\n",
            "Germany                          69\n",
            "Canada                           61\n",
            "India                            51\n",
            "El-Salvador                      49\n",
            "China                            47\n",
            "Cuba                             43\n",
            "England                          37\n",
            "South                            35\n",
            "Dominican-Republic               33\n",
            "Italy                            32\n",
            "Haiti                            31\n",
            "Japan                            30\n",
            "Portugal                         30\n",
            "Poland                           27\n",
            "Columbia                         26\n",
            "Jamaica                          25\n",
            "Guatemala                        24\n",
            "Greece                           20\n",
            "Vietnam                          19\n",
            "Ecuador                          17\n",
            "Iran                             16\n",
            "Peru                             15\n",
            "Nicaragua                        15\n",
            "Taiwan                           14\n",
            "Ireland                          13\n",
            "Thailand                         12\n",
            "Hong                             10\n",
            "Cambodia                          9\n",
            "France                            9\n",
            "Scotland                          9\n",
            "Outlying-US(Guam-USVI-etc)        9\n",
            "Trinadad&Tobago                   8\n",
            "Yugoslavia                        7\n",
            "Honduras                          7\n",
            "Hungary                           6\n",
            "Laos                              5\n",
            "Name: count, dtype: int64\n",
            "\n",
            "class\n",
            "<=50K    12435\n",
            ">50K      3845\n",
            "Name: count, dtype: int64\n",
            "\n"
          ]
        }
      ]
    },
    {
      "cell_type": "markdown",
      "source": [
        "Observamos que para todos os atributos categoricos, exceção feita a 'native-country', não existem contagens com repetições. Portanto, para esses, vamos utilizar a técnicao de \"Count Encoding\"."
      ],
      "metadata": {
        "id": "k-_aaU5WgcmB"
      }
    },
    {
      "cell_type": "markdown",
      "source": [
        "## Count Encoding"
      ],
      "metadata": {
        "id": "omyWGKqXg1SI"
      }
    },
    {
      "cell_type": "code",
      "source": [
        "for col in vetor_categoricos.columns:\n",
        "  if col != \"native-country\":  # exceção feita para native-country por que existem repetições na contagem.\n",
        "    # contar frequências\n",
        "    counts = dataset[col].value_counts()\n",
        "    # mapear categorias -> contagem\n",
        "    dataset[col] = dataset[col].map(counts)"
      ],
      "metadata": {
        "id": "XhpcYkM4g5Ms"
      },
      "execution_count": 17,
      "outputs": []
    },
    {
      "cell_type": "markdown",
      "source": [
        "## Tratamento para Native Country\n",
        "\n",
        "Observamos que native-country apresenta repetições da frequência de elementos. Entretanto, essas repetições aparecem em elementos cuja frequencia é muito baixa, com pouca representatividade em relação ao total de elementos. Em particular, vemos que se tomamos as frequencias ordenenadas para o atributo, as repetições aparecem somente abaixo da frequencia 30, Japao e Portugal, e inferiores. A soma percentual de elementos cuja frequência é menor ou igual a 30 é de cerca de 2,3% do total de elementos. Logo, quero aplicar uma adaptação da técnica de count-encoding. A idéia é utilizar count-encoding para todos os elementos cuja frequência seja maior a 30. E para os elementos cuja frequência seja menor ou igual a 30, vamos agrupar-los dentro de um mesmo conjunto, \"outros\", e estabelecer a contagem desses elementos de forma conjunta."
      ],
      "metadata": {
        "id": "TAENYS1FkvN2"
      }
    },
    {
      "cell_type": "code",
      "source": [
        "col = \"native-country\"\n",
        "limiar = 30  # frequências <= 30 viram \"outros\"\n",
        "\n",
        "# contagens por categoria\n",
        "counts = dataset[col].value_counts()\n",
        "\n",
        "# separa frequentes vs raras\n",
        "freq_altas = counts[counts > limiar]\n",
        "freq_baixas = counts[counts <= limiar]\n",
        "\n",
        "# total conjunto para categorias raras\n",
        "outros_total = int(freq_baixas.sum())\n",
        "\n",
        "# mapeamento final\n",
        "mapping = freq_altas.to_dict()\n",
        "for c in freq_baixas.index:\n",
        "    mapping[c] = outros_total\n",
        "\n",
        "# sobrescreve a coluna original com o encoding adaptado\n",
        "dataset[col] = dataset[col].map(mapping)"
      ],
      "metadata": {
        "id": "s-yI7XxInYGh"
      },
      "execution_count": 18,
      "outputs": []
    },
    {
      "cell_type": "markdown",
      "source": [
        "# Normalização"
      ],
      "metadata": {
        "id": "jpfXVOqweJ44"
      }
    },
    {
      "cell_type": "code",
      "source": [
        "dataset.info()"
      ],
      "metadata": {
        "id": "KcIlXuPlecbE",
        "outputId": "8ee4af35-8765-44b8-a418-152f1940fedd",
        "colab": {
          "base_uri": "https://localhost:8080/"
        }
      },
      "execution_count": 19,
      "outputs": [
        {
          "output_type": "stream",
          "name": "stdout",
          "text": [
            "<class 'pandas.core.frame.DataFrame'>\n",
            "Index: 16280 entries, 0 to 16280\n",
            "Data columns (total 14 columns):\n",
            " #   Column          Non-Null Count  Dtype\n",
            "---  ------          --------------  -----\n",
            " 0   age             16280 non-null  int64\n",
            " 1   workclass       16280 non-null  int64\n",
            " 2   education       16280 non-null  int64\n",
            " 3   education-num   16280 non-null  int64\n",
            " 4   marital-status  16280 non-null  int64\n",
            " 5   occupation      16280 non-null  int64\n",
            " 6   relationship    16280 non-null  int64\n",
            " 7   race            16280 non-null  int64\n",
            " 8   sex             16280 non-null  int64\n",
            " 9   capital-gain    16280 non-null  int64\n",
            " 10  capital-loss    16280 non-null  int64\n",
            " 11  hours-per-week  16280 non-null  int64\n",
            " 12  native-country  16280 non-null  int64\n",
            " 13  class           16280 non-null  int64\n",
            "dtypes: int64(14)\n",
            "memory usage: 1.9 MB\n"
          ]
        }
      ]
    },
    {
      "cell_type": "markdown",
      "source": [
        "## Aplicando minmax_scale"
      ],
      "metadata": {
        "id": "D22mJFR5d9vu"
      }
    },
    {
      "cell_type": "code",
      "source": [
        "# Obtendo os nomes das colunas Numéricas\n",
        "tipos_numericos = ['int64', 'int64', 'int64', 'int64', 'int64']\n",
        "cols_num = dataset.select_dtypes(include=tipos_numericos)\n",
        "\n",
        "## selecionando as colunas\n",
        "colunas_numericas = list(cols_num.columns)\n",
        "\n",
        "# Copiando os dados e aplicando a normalizacao\n",
        "dataset_normalizado = dataset.copy()\n",
        "dataset_normalizado[colunas_numericas] = dataset[colunas_numericas].apply(minmax_scale)\n",
        "\n",
        "# Visualização dos dados normalizados\n",
        "dataset_normalizado.head(10)"
      ],
      "metadata": {
        "id": "1B1QpkwReP1D",
        "outputId": "8b7d9dca-36cf-4bdb-ba79-21c792d8e7f0",
        "colab": {
          "base_uri": "https://localhost:8080/",
          "height": 363
        }
      },
      "execution_count": 20,
      "outputs": [
        {
          "output_type": "execute_result",
          "data": {
            "text/plain": [
              "         age  workclass  education  education-num  marital-status  occupation  \\\n",
              "0   0.131148   1.000000   0.115216       0.400000        0.733622    0.338570   \n",
              "1   0.344262   1.000000   1.000000       0.533333        1.000000    0.163770   \n",
              "2   0.180328   0.085463   0.095601       0.733333        1.000000    0.109626   \n",
              "4   0.016393   1.000000   0.676823       0.600000        0.733622    1.000000   \n",
              "5   0.278689   1.000000   0.080747       0.333333        0.733622    0.542112   \n",
              "6   0.196721   1.000000   1.000000       0.533333        0.733622    1.000000   \n",
              "7   0.754098   0.108308   0.043039       0.933333        1.000000    1.000000   \n",
              "8   0.114754   1.000000   0.676823       0.600000        0.733622    0.542112   \n",
              "9   0.622951   1.000000   0.052752       0.200000        1.000000    0.670789   \n",
              "10  0.786885   1.000000   1.000000       0.533333        1.000000    0.338570   \n",
              "\n",
              "    relationship      race  sex  capital-gain  capital-loss  hours-per-week  \\\n",
              "0       0.331499  0.103179  1.0      0.000000           0.0        0.397959   \n",
              "1       1.000000  1.000000  1.0      0.000000           0.0        0.500000   \n",
              "2       1.000000  1.000000  1.0      0.000000           0.0        0.397959   \n",
              "4       0.331499  1.000000  0.0      0.000000           0.0        0.295918   \n",
              "5       0.625813  1.000000  1.0      0.000000           0.0        0.295918   \n",
              "6       0.192430  0.103179  1.0      0.000000           0.0        0.397959   \n",
              "7       1.000000  1.000000  1.0      0.031030           0.0        0.316327   \n",
              "8       0.192430  1.000000  0.0      0.000000           0.0        0.397959   \n",
              "9       1.000000  1.000000  1.0      0.000000           0.0        0.091837   \n",
              "10      1.000000  1.000000  1.0      0.064181           0.0        0.397959   \n",
              "\n",
              "    native-country  class  \n",
              "0              1.0    1.0  \n",
              "1              1.0    1.0  \n",
              "2              1.0    0.0  \n",
              "4              1.0    1.0  \n",
              "5              1.0    1.0  \n",
              "6              1.0    1.0  \n",
              "7              1.0    0.0  \n",
              "8              1.0    1.0  \n",
              "9              1.0    1.0  \n",
              "10             1.0    0.0  "
            ],
            "text/html": [
              "\n",
              "  <div id=\"df-cc9a5993-539a-417b-a2f6-7571c109d6d7\" class=\"colab-df-container\">\n",
              "    <div>\n",
              "<style scoped>\n",
              "    .dataframe tbody tr th:only-of-type {\n",
              "        vertical-align: middle;\n",
              "    }\n",
              "\n",
              "    .dataframe tbody tr th {\n",
              "        vertical-align: top;\n",
              "    }\n",
              "\n",
              "    .dataframe thead th {\n",
              "        text-align: right;\n",
              "    }\n",
              "</style>\n",
              "<table border=\"1\" class=\"dataframe\">\n",
              "  <thead>\n",
              "    <tr style=\"text-align: right;\">\n",
              "      <th></th>\n",
              "      <th>age</th>\n",
              "      <th>workclass</th>\n",
              "      <th>education</th>\n",
              "      <th>education-num</th>\n",
              "      <th>marital-status</th>\n",
              "      <th>occupation</th>\n",
              "      <th>relationship</th>\n",
              "      <th>race</th>\n",
              "      <th>sex</th>\n",
              "      <th>capital-gain</th>\n",
              "      <th>capital-loss</th>\n",
              "      <th>hours-per-week</th>\n",
              "      <th>native-country</th>\n",
              "      <th>class</th>\n",
              "    </tr>\n",
              "  </thead>\n",
              "  <tbody>\n",
              "    <tr>\n",
              "      <th>0</th>\n",
              "      <td>0.131148</td>\n",
              "      <td>1.000000</td>\n",
              "      <td>0.115216</td>\n",
              "      <td>0.400000</td>\n",
              "      <td>0.733622</td>\n",
              "      <td>0.338570</td>\n",
              "      <td>0.331499</td>\n",
              "      <td>0.103179</td>\n",
              "      <td>1.0</td>\n",
              "      <td>0.000000</td>\n",
              "      <td>0.0</td>\n",
              "      <td>0.397959</td>\n",
              "      <td>1.0</td>\n",
              "      <td>1.0</td>\n",
              "    </tr>\n",
              "    <tr>\n",
              "      <th>1</th>\n",
              "      <td>0.344262</td>\n",
              "      <td>1.000000</td>\n",
              "      <td>1.000000</td>\n",
              "      <td>0.533333</td>\n",
              "      <td>1.000000</td>\n",
              "      <td>0.163770</td>\n",
              "      <td>1.000000</td>\n",
              "      <td>1.000000</td>\n",
              "      <td>1.0</td>\n",
              "      <td>0.000000</td>\n",
              "      <td>0.0</td>\n",
              "      <td>0.500000</td>\n",
              "      <td>1.0</td>\n",
              "      <td>1.0</td>\n",
              "    </tr>\n",
              "    <tr>\n",
              "      <th>2</th>\n",
              "      <td>0.180328</td>\n",
              "      <td>0.085463</td>\n",
              "      <td>0.095601</td>\n",
              "      <td>0.733333</td>\n",
              "      <td>1.000000</td>\n",
              "      <td>0.109626</td>\n",
              "      <td>1.000000</td>\n",
              "      <td>1.000000</td>\n",
              "      <td>1.0</td>\n",
              "      <td>0.000000</td>\n",
              "      <td>0.0</td>\n",
              "      <td>0.397959</td>\n",
              "      <td>1.0</td>\n",
              "      <td>0.0</td>\n",
              "    </tr>\n",
              "    <tr>\n",
              "      <th>4</th>\n",
              "      <td>0.016393</td>\n",
              "      <td>1.000000</td>\n",
              "      <td>0.676823</td>\n",
              "      <td>0.600000</td>\n",
              "      <td>0.733622</td>\n",
              "      <td>1.000000</td>\n",
              "      <td>0.331499</td>\n",
              "      <td>1.000000</td>\n",
              "      <td>0.0</td>\n",
              "      <td>0.000000</td>\n",
              "      <td>0.0</td>\n",
              "      <td>0.295918</td>\n",
              "      <td>1.0</td>\n",
              "      <td>1.0</td>\n",
              "    </tr>\n",
              "    <tr>\n",
              "      <th>5</th>\n",
              "      <td>0.278689</td>\n",
              "      <td>1.000000</td>\n",
              "      <td>0.080747</td>\n",
              "      <td>0.333333</td>\n",
              "      <td>0.733622</td>\n",
              "      <td>0.542112</td>\n",
              "      <td>0.625813</td>\n",
              "      <td>1.000000</td>\n",
              "      <td>1.0</td>\n",
              "      <td>0.000000</td>\n",
              "      <td>0.0</td>\n",
              "      <td>0.295918</td>\n",
              "      <td>1.0</td>\n",
              "      <td>1.0</td>\n",
              "    </tr>\n",
              "    <tr>\n",
              "      <th>6</th>\n",
              "      <td>0.196721</td>\n",
              "      <td>1.000000</td>\n",
              "      <td>1.000000</td>\n",
              "      <td>0.533333</td>\n",
              "      <td>0.733622</td>\n",
              "      <td>1.000000</td>\n",
              "      <td>0.192430</td>\n",
              "      <td>0.103179</td>\n",
              "      <td>1.0</td>\n",
              "      <td>0.000000</td>\n",
              "      <td>0.0</td>\n",
              "      <td>0.397959</td>\n",
              "      <td>1.0</td>\n",
              "      <td>1.0</td>\n",
              "    </tr>\n",
              "    <tr>\n",
              "      <th>7</th>\n",
              "      <td>0.754098</td>\n",
              "      <td>0.108308</td>\n",
              "      <td>0.043039</td>\n",
              "      <td>0.933333</td>\n",
              "      <td>1.000000</td>\n",
              "      <td>1.000000</td>\n",
              "      <td>1.000000</td>\n",
              "      <td>1.000000</td>\n",
              "      <td>1.0</td>\n",
              "      <td>0.031030</td>\n",
              "      <td>0.0</td>\n",
              "      <td>0.316327</td>\n",
              "      <td>1.0</td>\n",
              "      <td>0.0</td>\n",
              "    </tr>\n",
              "    <tr>\n",
              "      <th>8</th>\n",
              "      <td>0.114754</td>\n",
              "      <td>1.000000</td>\n",
              "      <td>0.676823</td>\n",
              "      <td>0.600000</td>\n",
              "      <td>0.733622</td>\n",
              "      <td>0.542112</td>\n",
              "      <td>0.192430</td>\n",
              "      <td>1.000000</td>\n",
              "      <td>0.0</td>\n",
              "      <td>0.000000</td>\n",
              "      <td>0.0</td>\n",
              "      <td>0.397959</td>\n",
              "      <td>1.0</td>\n",
              "      <td>1.0</td>\n",
              "    </tr>\n",
              "    <tr>\n",
              "      <th>9</th>\n",
              "      <td>0.622951</td>\n",
              "      <td>1.000000</td>\n",
              "      <td>0.052752</td>\n",
              "      <td>0.200000</td>\n",
              "      <td>1.000000</td>\n",
              "      <td>0.670789</td>\n",
              "      <td>1.000000</td>\n",
              "      <td>1.000000</td>\n",
              "      <td>1.0</td>\n",
              "      <td>0.000000</td>\n",
              "      <td>0.0</td>\n",
              "      <td>0.091837</td>\n",
              "      <td>1.0</td>\n",
              "      <td>1.0</td>\n",
              "    </tr>\n",
              "    <tr>\n",
              "      <th>10</th>\n",
              "      <td>0.786885</td>\n",
              "      <td>1.000000</td>\n",
              "      <td>1.000000</td>\n",
              "      <td>0.533333</td>\n",
              "      <td>1.000000</td>\n",
              "      <td>0.338570</td>\n",
              "      <td>1.000000</td>\n",
              "      <td>1.000000</td>\n",
              "      <td>1.0</td>\n",
              "      <td>0.064181</td>\n",
              "      <td>0.0</td>\n",
              "      <td>0.397959</td>\n",
              "      <td>1.0</td>\n",
              "      <td>0.0</td>\n",
              "    </tr>\n",
              "  </tbody>\n",
              "</table>\n",
              "</div>\n",
              "    <div class=\"colab-df-buttons\">\n",
              "\n",
              "  <div class=\"colab-df-container\">\n",
              "    <button class=\"colab-df-convert\" onclick=\"convertToInteractive('df-cc9a5993-539a-417b-a2f6-7571c109d6d7')\"\n",
              "            title=\"Convert this dataframe to an interactive table.\"\n",
              "            style=\"display:none;\">\n",
              "\n",
              "  <svg xmlns=\"http://www.w3.org/2000/svg\" height=\"24px\" viewBox=\"0 -960 960 960\">\n",
              "    <path d=\"M120-120v-720h720v720H120Zm60-500h600v-160H180v160Zm220 220h160v-160H400v160Zm0 220h160v-160H400v160ZM180-400h160v-160H180v160Zm440 0h160v-160H620v160ZM180-180h160v-160H180v160Zm440 0h160v-160H620v160Z\"/>\n",
              "  </svg>\n",
              "    </button>\n",
              "\n",
              "  <style>\n",
              "    .colab-df-container {\n",
              "      display:flex;\n",
              "      gap: 12px;\n",
              "    }\n",
              "\n",
              "    .colab-df-convert {\n",
              "      background-color: #E8F0FE;\n",
              "      border: none;\n",
              "      border-radius: 50%;\n",
              "      cursor: pointer;\n",
              "      display: none;\n",
              "      fill: #1967D2;\n",
              "      height: 32px;\n",
              "      padding: 0 0 0 0;\n",
              "      width: 32px;\n",
              "    }\n",
              "\n",
              "    .colab-df-convert:hover {\n",
              "      background-color: #E2EBFA;\n",
              "      box-shadow: 0px 1px 2px rgba(60, 64, 67, 0.3), 0px 1px 3px 1px rgba(60, 64, 67, 0.15);\n",
              "      fill: #174EA6;\n",
              "    }\n",
              "\n",
              "    .colab-df-buttons div {\n",
              "      margin-bottom: 4px;\n",
              "    }\n",
              "\n",
              "    [theme=dark] .colab-df-convert {\n",
              "      background-color: #3B4455;\n",
              "      fill: #D2E3FC;\n",
              "    }\n",
              "\n",
              "    [theme=dark] .colab-df-convert:hover {\n",
              "      background-color: #434B5C;\n",
              "      box-shadow: 0px 1px 3px 1px rgba(0, 0, 0, 0.15);\n",
              "      filter: drop-shadow(0px 1px 2px rgba(0, 0, 0, 0.3));\n",
              "      fill: #FFFFFF;\n",
              "    }\n",
              "  </style>\n",
              "\n",
              "    <script>\n",
              "      const buttonEl =\n",
              "        document.querySelector('#df-cc9a5993-539a-417b-a2f6-7571c109d6d7 button.colab-df-convert');\n",
              "      buttonEl.style.display =\n",
              "        google.colab.kernel.accessAllowed ? 'block' : 'none';\n",
              "\n",
              "      async function convertToInteractive(key) {\n",
              "        const element = document.querySelector('#df-cc9a5993-539a-417b-a2f6-7571c109d6d7');\n",
              "        const dataTable =\n",
              "          await google.colab.kernel.invokeFunction('convertToInteractive',\n",
              "                                                    [key], {});\n",
              "        if (!dataTable) return;\n",
              "\n",
              "        const docLinkHtml = 'Like what you see? Visit the ' +\n",
              "          '<a target=\"_blank\" href=https://colab.research.google.com/notebooks/data_table.ipynb>data table notebook</a>'\n",
              "          + ' to learn more about interactive tables.';\n",
              "        element.innerHTML = '';\n",
              "        dataTable['output_type'] = 'display_data';\n",
              "        await google.colab.output.renderOutput(dataTable, element);\n",
              "        const docLink = document.createElement('div');\n",
              "        docLink.innerHTML = docLinkHtml;\n",
              "        element.appendChild(docLink);\n",
              "      }\n",
              "    </script>\n",
              "  </div>\n",
              "\n",
              "\n",
              "    <div id=\"df-40cbab1b-2f70-4f83-9b46-75d126b9307e\">\n",
              "      <button class=\"colab-df-quickchart\" onclick=\"quickchart('df-40cbab1b-2f70-4f83-9b46-75d126b9307e')\"\n",
              "                title=\"Suggest charts\"\n",
              "                style=\"display:none;\">\n",
              "\n",
              "<svg xmlns=\"http://www.w3.org/2000/svg\" height=\"24px\"viewBox=\"0 0 24 24\"\n",
              "     width=\"24px\">\n",
              "    <g>\n",
              "        <path d=\"M19 3H5c-1.1 0-2 .9-2 2v14c0 1.1.9 2 2 2h14c1.1 0 2-.9 2-2V5c0-1.1-.9-2-2-2zM9 17H7v-7h2v7zm4 0h-2V7h2v10zm4 0h-2v-4h2v4z\"/>\n",
              "    </g>\n",
              "</svg>\n",
              "      </button>\n",
              "\n",
              "<style>\n",
              "  .colab-df-quickchart {\n",
              "      --bg-color: #E8F0FE;\n",
              "      --fill-color: #1967D2;\n",
              "      --hover-bg-color: #E2EBFA;\n",
              "      --hover-fill-color: #174EA6;\n",
              "      --disabled-fill-color: #AAA;\n",
              "      --disabled-bg-color: #DDD;\n",
              "  }\n",
              "\n",
              "  [theme=dark] .colab-df-quickchart {\n",
              "      --bg-color: #3B4455;\n",
              "      --fill-color: #D2E3FC;\n",
              "      --hover-bg-color: #434B5C;\n",
              "      --hover-fill-color: #FFFFFF;\n",
              "      --disabled-bg-color: #3B4455;\n",
              "      --disabled-fill-color: #666;\n",
              "  }\n",
              "\n",
              "  .colab-df-quickchart {\n",
              "    background-color: var(--bg-color);\n",
              "    border: none;\n",
              "    border-radius: 50%;\n",
              "    cursor: pointer;\n",
              "    display: none;\n",
              "    fill: var(--fill-color);\n",
              "    height: 32px;\n",
              "    padding: 0;\n",
              "    width: 32px;\n",
              "  }\n",
              "\n",
              "  .colab-df-quickchart:hover {\n",
              "    background-color: var(--hover-bg-color);\n",
              "    box-shadow: 0 1px 2px rgba(60, 64, 67, 0.3), 0 1px 3px 1px rgba(60, 64, 67, 0.15);\n",
              "    fill: var(--button-hover-fill-color);\n",
              "  }\n",
              "\n",
              "  .colab-df-quickchart-complete:disabled,\n",
              "  .colab-df-quickchart-complete:disabled:hover {\n",
              "    background-color: var(--disabled-bg-color);\n",
              "    fill: var(--disabled-fill-color);\n",
              "    box-shadow: none;\n",
              "  }\n",
              "\n",
              "  .colab-df-spinner {\n",
              "    border: 2px solid var(--fill-color);\n",
              "    border-color: transparent;\n",
              "    border-bottom-color: var(--fill-color);\n",
              "    animation:\n",
              "      spin 1s steps(1) infinite;\n",
              "  }\n",
              "\n",
              "  @keyframes spin {\n",
              "    0% {\n",
              "      border-color: transparent;\n",
              "      border-bottom-color: var(--fill-color);\n",
              "      border-left-color: var(--fill-color);\n",
              "    }\n",
              "    20% {\n",
              "      border-color: transparent;\n",
              "      border-left-color: var(--fill-color);\n",
              "      border-top-color: var(--fill-color);\n",
              "    }\n",
              "    30% {\n",
              "      border-color: transparent;\n",
              "      border-left-color: var(--fill-color);\n",
              "      border-top-color: var(--fill-color);\n",
              "      border-right-color: var(--fill-color);\n",
              "    }\n",
              "    40% {\n",
              "      border-color: transparent;\n",
              "      border-right-color: var(--fill-color);\n",
              "      border-top-color: var(--fill-color);\n",
              "    }\n",
              "    60% {\n",
              "      border-color: transparent;\n",
              "      border-right-color: var(--fill-color);\n",
              "    }\n",
              "    80% {\n",
              "      border-color: transparent;\n",
              "      border-right-color: var(--fill-color);\n",
              "      border-bottom-color: var(--fill-color);\n",
              "    }\n",
              "    90% {\n",
              "      border-color: transparent;\n",
              "      border-bottom-color: var(--fill-color);\n",
              "    }\n",
              "  }\n",
              "</style>\n",
              "\n",
              "      <script>\n",
              "        async function quickchart(key) {\n",
              "          const quickchartButtonEl =\n",
              "            document.querySelector('#' + key + ' button');\n",
              "          quickchartButtonEl.disabled = true;  // To prevent multiple clicks.\n",
              "          quickchartButtonEl.classList.add('colab-df-spinner');\n",
              "          try {\n",
              "            const charts = await google.colab.kernel.invokeFunction(\n",
              "                'suggestCharts', [key], {});\n",
              "          } catch (error) {\n",
              "            console.error('Error during call to suggestCharts:', error);\n",
              "          }\n",
              "          quickchartButtonEl.classList.remove('colab-df-spinner');\n",
              "          quickchartButtonEl.classList.add('colab-df-quickchart-complete');\n",
              "        }\n",
              "        (() => {\n",
              "          let quickchartButtonEl =\n",
              "            document.querySelector('#df-40cbab1b-2f70-4f83-9b46-75d126b9307e button');\n",
              "          quickchartButtonEl.style.display =\n",
              "            google.colab.kernel.accessAllowed ? 'block' : 'none';\n",
              "        })();\n",
              "      </script>\n",
              "    </div>\n",
              "\n",
              "    </div>\n",
              "  </div>\n"
            ],
            "application/vnd.google.colaboratory.intrinsic+json": {
              "type": "dataframe",
              "variable_name": "dataset_normalizado",
              "summary": "{\n  \"name\": \"dataset_normalizado\",\n  \"rows\": 16280,\n  \"fields\": [\n    {\n      \"column\": \"age\",\n      \"properties\": {\n        \"dtype\": \"number\",\n        \"std\": 0.22586115654393413,\n        \"min\": 0.0,\n        \"max\": 1.0,\n        \"num_unique_values\": 62,\n        \"samples\": [\n          0.9836065573770492,\n          0.7049180327868854,\n          0.13114754098360654\n        ],\n        \"semantic_type\": \"\",\n        \"description\": \"\"\n      }\n    },\n    {\n      \"column\": \"workclass\",\n      \"properties\": {\n        \"dtype\": \"number\",\n        \"std\": 0.4011801137587827,\n        \"min\": 0.0,\n        \"max\": 1.0,\n        \"num_unique_values\": 8,\n        \"samples\": [\n          0.08546306187854384,\n          0.04733338811734736,\n          1.0\n        ],\n        \"semantic_type\": \"\",\n        \"description\": \"\"\n      }\n    },\n    {\n      \"column\": \"education\",\n      \"properties\": {\n        \"dtype\": \"number\",\n        \"std\": 0.35895792642123825,\n        \"min\": 0.0,\n        \"max\": 1.0,\n        \"num_unique_values\": 16,\n        \"samples\": [\n          0.11521614930489431,\n          1.0,\n          0.04303942106265474\n        ],\n        \"semantic_type\": \"\",\n        \"description\": \"\"\n      }\n    },\n    {\n      \"column\": \"education-num\",\n      \"properties\": {\n        \"dtype\": \"number\",\n        \"std\": 0.1711749369683239,\n        \"min\": 0.0,\n        \"max\": 1.0,\n        \"num_unique_values\": 16,\n        \"samples\": [\n          0.4,\n          0.5333333333333333,\n          0.9333333333333333\n        ],\n        \"semantic_type\": \"\",\n        \"description\": \"\"\n      }\n    },\n    {\n      \"column\": \"marital-status\",\n      \"properties\": {\n        \"dtype\": \"number\",\n        \"std\": 0.30505207257236067,\n        \"min\": 0.0,\n        \"max\": 1.0,\n        \"num_unique_values\": 7,\n        \"samples\": [\n          0.7336220898754738,\n          1.0,\n          0.026529507309149974\n        ],\n        \"semantic_type\": \"\",\n        \"description\": \"\"\n      }\n    },\n    {\n      \"column\": \"occupation\",\n      \"properties\": {\n        \"dtype\": \"number\",\n        \"std\": 0.2558872436570334,\n        \"min\": 0.0,\n        \"max\": 1.0,\n        \"num_unique_values\": 14,\n        \"samples\": [\n          0.6176470588235294,\n          0.2513368983957219,\n          0.33856951871657753\n        ],\n        \"semantic_type\": \"\",\n        \"description\": \"\"\n      }\n    },\n    {\n      \"column\": \"relationship\",\n      \"properties\": {\n        \"dtype\": \"number\",\n        \"std\": 0.34267278198508694,\n        \"min\": 0.0,\n        \"max\": 0.9999999999999999,\n        \"num_unique_values\": 6,\n        \"samples\": [\n          0.3314990828747707,\n          0.9999999999999999,\n          0.0\n        ],\n        \"semantic_type\": \"\",\n        \"description\": \"\"\n      }\n    },\n    {\n      \"column\": \"race\",\n      \"properties\": {\n        \"dtype\": \"number\",\n        \"std\": 0.32482955851607315,\n        \"min\": 0.0,\n        \"max\": 1.0,\n        \"num_unique_values\": 5,\n        \"samples\": [\n          1.0,\n          0.0017377452755050326,\n          0.02498008833538484\n        ],\n        \"semantic_type\": \"\",\n        \"description\": \"\"\n      }\n    },\n    {\n      \"column\": \"sex\",\n      \"properties\": {\n        \"dtype\": \"number\",\n        \"std\": 0.47129578787342574,\n        \"min\": 0.0,\n        \"max\": 1.0,\n        \"num_unique_values\": 2,\n        \"samples\": [\n          0.0,\n          1.0\n        ],\n        \"semantic_type\": \"\",\n        \"description\": \"\"\n      }\n    },\n    {\n      \"column\": \"capital-gain\",\n      \"properties\": {\n        \"dtype\": \"number\",\n        \"std\": 0.07584067992703603,\n        \"min\": 0.0,\n        \"max\": 1.0,\n        \"num_unique_values\": 113,\n        \"samples\": [\n          0.3409534095340953,\n          0.07688076880768807\n        ],\n        \"semantic_type\": \"\",\n        \"description\": \"\"\n      }\n    },\n    {\n      \"column\": \"capital-loss\",\n      \"properties\": {\n        \"dtype\": \"number\",\n        \"std\": 0.10692760686054019,\n        \"min\": 0.0,\n        \"max\": 0.9999999999999999,\n        \"num_unique_values\": 82,\n        \"samples\": [\n          0.3336870026525199,\n          0.0\n        ],\n        \"semantic_type\": \"\",\n        \"description\": \"\"\n      }\n    },\n    {\n      \"column\": \"hours-per-week\",\n      \"properties\": {\n        \"dtype\": \"number\",\n        \"std\": 0.12734403222425272,\n        \"min\": 0.0,\n        \"max\": 0.9999999999999999,\n        \"num_unique_values\": 89,\n        \"samples\": [\n          0.16326530612244897,\n          0.22448979591836732\n        ],\n        \"semantic_type\": \"\",\n        \"description\": \"\"\n      }\n    },\n    {\n      \"column\": \"native-country\",\n      \"properties\": {\n        \"dtype\": \"number\",\n        \"std\": 0.2720759659045696,\n        \"min\": 0.0,\n        \"max\": 0.9999999999999999,\n        \"num_unique_values\": 16,\n        \"samples\": [\n          0.9999999999999999,\n          0.02355072463768116\n        ],\n        \"semantic_type\": \"\",\n        \"description\": \"\"\n      }\n    },\n    {\n      \"column\": \"class\",\n      \"properties\": {\n        \"dtype\": \"number\",\n        \"std\": 0.4247466918204153,\n        \"min\": 0.0,\n        \"max\": 1.0,\n        \"num_unique_values\": 2,\n        \"samples\": [\n          0.0,\n          1.0\n        ],\n        \"semantic_type\": \"\",\n        \"description\": \"\"\n      }\n    }\n  ]\n}"
            }
          },
          "metadata": {},
          "execution_count": 20
        }
      ]
    },
    {
      "cell_type": "markdown",
      "source": [
        "# Salvando resultado em CSV"
      ],
      "metadata": {
        "id": "dHSj2Hb5pXl9"
      }
    },
    {
      "cell_type": "code",
      "source": [
        "dataset.to_csv(\"Adult_normalizado.csv\", index=False)"
      ],
      "metadata": {
        "id": "mHbY-fbipbji"
      },
      "execution_count": 21,
      "outputs": []
    }
  ]
}