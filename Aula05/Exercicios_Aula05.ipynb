{
  "nbformat": 4,
  "nbformat_minor": 0,
  "metadata": {
    "colab": {
      "provenance": [],
      "authorship_tag": "ABX9TyMCa/9SsSac5Yhp3m1gQY9n",
      "include_colab_link": true
    },
    "kernelspec": {
      "name": "python3",
      "display_name": "Python 3"
    },
    "language_info": {
      "name": "python"
    }
  },
  "cells": [
    {
      "cell_type": "markdown",
      "metadata": {
        "id": "view-in-github",
        "colab_type": "text"
      },
      "source": [
        "<a href=\"https://colab.research.google.com/github/gilcesarf/imd3002-202502/blob/main/Aula05/Exercicios_Aula05.ipynb\" target=\"_parent\"><img src=\"https://colab.research.google.com/assets/colab-badge.svg\" alt=\"Open In Colab\"/></a>"
      ]
    },
    {
      "cell_type": "markdown",
      "source": [
        "# Setup inicial"
      ],
      "metadata": {
        "id": "iqgyaNiR-ckv"
      }
    },
    {
      "cell_type": "code",
      "execution_count": null,
      "metadata": {
        "id": "tuhHaBhe8ETP"
      },
      "outputs": [],
      "source": [
        "import pandas as pd\n"
      ]
    },
    {
      "cell_type": "markdown",
      "source": [
        "# Características da Base de Dados\n"
      ],
      "metadata": {
        "id": "cMyo2t7w98wx"
      }
    },
    {
      "cell_type": "code",
      "source": [
        "# caracteristicas da base de dados"
      ],
      "metadata": {
        "id": "yFVHSqDl-wqv"
      },
      "execution_count": null,
      "outputs": []
    },
    {
      "cell_type": "markdown",
      "source": [
        "# Verificação de Missing Values\n"
      ],
      "metadata": {
        "id": "ocMVA1xx-r4W"
      }
    },
    {
      "cell_type": "code",
      "source": [
        "# verificacao de missing values"
      ],
      "metadata": {
        "id": "RlGXjQRT_L2i"
      },
      "execution_count": null,
      "outputs": []
    },
    {
      "cell_type": "markdown",
      "source": [
        "# Transformação de Atributos Numéricos"
      ],
      "metadata": {
        "id": "X8BRJniK-4KC"
      }
    },
    {
      "cell_type": "code",
      "source": [
        "# transformacao de atributos numericos"
      ],
      "metadata": {
        "id": "tgg9iF2W_Usw"
      },
      "execution_count": null,
      "outputs": []
    },
    {
      "cell_type": "markdown",
      "source": [
        "# Transformação de Atributos Discretos"
      ],
      "metadata": {
        "id": "ea-IrBWl-9D7"
      }
    },
    {
      "cell_type": "code",
      "source": [
        "# transformação de atributos discretos"
      ],
      "metadata": {
        "id": "qZitfeK6_dnD"
      },
      "execution_count": null,
      "outputs": []
    }
  ]
}